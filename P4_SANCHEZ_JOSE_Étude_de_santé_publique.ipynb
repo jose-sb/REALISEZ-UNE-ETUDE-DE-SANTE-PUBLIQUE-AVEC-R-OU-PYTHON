{
 "cells": [
  {
   "cell_type": "markdown",
   "id": "7373993d",
   "metadata": {},
   "source": [
    "# <center> Panorama de l’état de la malnutrition dans le monde (Année 2017)"
   ]
  },
  {
   "cell_type": "markdown",
   "id": "dc0a066c",
   "metadata": {},
   "source": [
    "## <span style=\"color : #00BFFF\">***Les librairies***</span>"
   ]
  },
  {
   "cell_type": "code",
   "execution_count": 1,
   "id": "cb9d4c35",
   "metadata": {},
   "outputs": [],
   "source": [
    "import pandas as pd\n",
    "import matplotlib.pyplot as plt\n",
    "import numpy as np\n",
    "import seaborn as sns\n",
    "%matplotlib inline"
   ]
  },
  {
   "cell_type": "markdown",
   "id": "ea85617b",
   "metadata": {},
   "source": [
    "## <span style=\"color : #00BFFF\">***Fichier population.csv***</span>"
   ]
  },
  {
   "cell_type": "markdown",
   "id": "3a3f3536",
   "metadata": {},
   "source": [
    "* ### <span style=\"color : #20B2AA\">***Nettoyage et préparation des fichiers***</span>"
   ]
  },
  {
   "cell_type": "code",
   "execution_count": 2,
   "id": "a19165d7",
   "metadata": {},
   "outputs": [],
   "source": [
    "population_df = pd.read_csv('population.csv', index_col ='Zone')\n",
    "population_df['Valeur'] = pd.to_numeric(population_df['Valeur'], errors='coerce')\n",
    "population_df = population_df.fillna(value={'Valeur': 0})\n",
    "population_df['Valeur'] = population_df['Valeur']*1000"
   ]
  },
  {
   "cell_type": "markdown",
   "id": "2d31977e",
   "metadata": {},
   "source": [
    "* ### <span style=\"color : #20B2AA\">***Correction des noms de colonnes***</span>"
   ]
  },
  {
   "cell_type": "code",
   "execution_count": 3,
   "id": "cca3e5a8",
   "metadata": {},
   "outputs": [],
   "source": [
    "population_df.index.name=\"Pays\"\n",
    "population_df = population_df.rename(columns={'Valeur':'Habitants'})"
   ]
  },
  {
   "cell_type": "markdown",
   "id": "1fa5a48d",
   "metadata": {},
   "source": [
    "* ### <span style=\"color : #20B2AA\">***Filtre (population_df) pour l'Année 2017***</span>"
   ]
  },
  {
   "cell_type": "code",
   "execution_count": 4,
   "id": "0d038d00",
   "metadata": {},
   "outputs": [
    {
     "data": {
      "text/html": [
       "<div>\n",
       "<style scoped>\n",
       "    .dataframe tbody tr th:only-of-type {\n",
       "        vertical-align: middle;\n",
       "    }\n",
       "\n",
       "    .dataframe tbody tr th {\n",
       "        vertical-align: top;\n",
       "    }\n",
       "\n",
       "    .dataframe thead th {\n",
       "        text-align: right;\n",
       "    }\n",
       "</style>\n",
       "<table border=\"1\" class=\"dataframe\">\n",
       "  <thead>\n",
       "    <tr style=\"text-align: right;\">\n",
       "      <th></th>\n",
       "      <th>Année</th>\n",
       "      <th>Habitants</th>\n",
       "    </tr>\n",
       "    <tr>\n",
       "      <th>Pays</th>\n",
       "      <th></th>\n",
       "      <th></th>\n",
       "    </tr>\n",
       "  </thead>\n",
       "  <tbody>\n",
       "    <tr>\n",
       "      <th>Afghanistan</th>\n",
       "      <td>2017</td>\n",
       "      <td>36296113.0</td>\n",
       "    </tr>\n",
       "    <tr>\n",
       "      <th>Afrique du Sud</th>\n",
       "      <td>2017</td>\n",
       "      <td>57009756.0</td>\n",
       "    </tr>\n",
       "    <tr>\n",
       "      <th>Albanie</th>\n",
       "      <td>2017</td>\n",
       "      <td>2884169.0</td>\n",
       "    </tr>\n",
       "    <tr>\n",
       "      <th>Algérie</th>\n",
       "      <td>2017</td>\n",
       "      <td>41389189.0</td>\n",
       "    </tr>\n",
       "    <tr>\n",
       "      <th>Allemagne</th>\n",
       "      <td>2017</td>\n",
       "      <td>82658409.0</td>\n",
       "    </tr>\n",
       "    <tr>\n",
       "      <th>...</th>\n",
       "      <td>...</td>\n",
       "      <td>...</td>\n",
       "    </tr>\n",
       "    <tr>\n",
       "      <th>Venezuela (République bolivarienne du)</th>\n",
       "      <td>2017</td>\n",
       "      <td>29402484.0</td>\n",
       "    </tr>\n",
       "    <tr>\n",
       "      <th>Viet Nam</th>\n",
       "      <td>2017</td>\n",
       "      <td>94600648.0</td>\n",
       "    </tr>\n",
       "    <tr>\n",
       "      <th>Yémen</th>\n",
       "      <td>2017</td>\n",
       "      <td>27834819.0</td>\n",
       "    </tr>\n",
       "    <tr>\n",
       "      <th>Zambie</th>\n",
       "      <td>2017</td>\n",
       "      <td>16853599.0</td>\n",
       "    </tr>\n",
       "    <tr>\n",
       "      <th>Zimbabwe</th>\n",
       "      <td>2017</td>\n",
       "      <td>14236595.0</td>\n",
       "    </tr>\n",
       "  </tbody>\n",
       "</table>\n",
       "<p>236 rows × 2 columns</p>\n",
       "</div>"
      ],
      "text/plain": [
       "                                        Année   Habitants\n",
       "Pays                                                     \n",
       "Afghanistan                              2017  36296113.0\n",
       "Afrique du Sud                           2017  57009756.0\n",
       "Albanie                                  2017   2884169.0\n",
       "Algérie                                  2017  41389189.0\n",
       "Allemagne                                2017  82658409.0\n",
       "...                                       ...         ...\n",
       "Venezuela (République bolivarienne du)   2017  29402484.0\n",
       "Viet Nam                                 2017  94600648.0\n",
       "Yémen                                    2017  27834819.0\n",
       "Zambie                                   2017  16853599.0\n",
       "Zimbabwe                                 2017  14236595.0\n",
       "\n",
       "[236 rows x 2 columns]"
      ]
     },
     "execution_count": 4,
     "metadata": {},
     "output_type": "execute_result"
    }
   ],
   "source": [
    "population_2017_df = population_df[population_df['Année'] == 2017]\n",
    "population_2017_df"
   ]
  },
  {
   "cell_type": "markdown",
   "id": "a7ffd508",
   "metadata": {},
   "source": [
    "## <span style=\"color : #00BFFF\">***Fichier sous_nutrition.csv***</span>"
   ]
  },
  {
   "cell_type": "markdown",
   "id": "3d33ad0f",
   "metadata": {},
   "source": [
    "* ### <span style=\"color : #20B2AA\">***Nettoyage et préparation des fichiers***</span>"
   ]
  },
  {
   "cell_type": "code",
   "execution_count": 5,
   "id": "0f172533",
   "metadata": {},
   "outputs": [],
   "source": [
    "sous_nutrition_df = pd.read_csv('sous_nutrition.csv', index_col ='Zone')\n",
    "sous_nutrition_df['Valeur'] = pd.to_numeric(sous_nutrition_df['Valeur'], errors='coerce')\n",
    "sous_nutrition_df = sous_nutrition_df.fillna(value={'Valeur': 0})\n",
    "sous_nutrition_df['Valeur'] = sous_nutrition_df['Valeur']*1000000\n",
    "sous_nutrition_df['Année'] = sous_nutrition_df['Année'].replace({'2012-2014': 2013, '2013-2015': 2014, '2014-2016': 2015, '2015-2017': 2016, '2016-2018': 2017, '2017-2019': 2018})"
   ]
  },
  {
   "cell_type": "markdown",
   "id": "cd481576",
   "metadata": {},
   "source": [
    "* ### <span style=\"color : #20B2AA\">***Correction des noms de colonnes***</span>"
   ]
  },
  {
   "cell_type": "code",
   "execution_count": 6,
   "id": "0db77037",
   "metadata": {},
   "outputs": [],
   "source": [
    "sous_nutrition_df.index.name=\"Pays\"\n",
    "sous_nutrition_df = sous_nutrition_df.rename(columns={'Valeur':'Habitants'})"
   ]
  },
  {
   "cell_type": "markdown",
   "id": "6dc4beb0",
   "metadata": {},
   "source": [
    "* ### <span style=\"color : #20B2AA\">***Filtre (sous_nutrition_df) pour l'Année 2017***</span>"
   ]
  },
  {
   "cell_type": "code",
   "execution_count": 7,
   "id": "460a3dc9",
   "metadata": {},
   "outputs": [
    {
     "data": {
      "text/html": [
       "<div>\n",
       "<style scoped>\n",
       "    .dataframe tbody tr th:only-of-type {\n",
       "        vertical-align: middle;\n",
       "    }\n",
       "\n",
       "    .dataframe tbody tr th {\n",
       "        vertical-align: top;\n",
       "    }\n",
       "\n",
       "    .dataframe thead th {\n",
       "        text-align: right;\n",
       "    }\n",
       "</style>\n",
       "<table border=\"1\" class=\"dataframe\">\n",
       "  <thead>\n",
       "    <tr style=\"text-align: right;\">\n",
       "      <th></th>\n",
       "      <th>Année</th>\n",
       "      <th>Habitants</th>\n",
       "    </tr>\n",
       "    <tr>\n",
       "      <th>Pays</th>\n",
       "      <th></th>\n",
       "      <th></th>\n",
       "    </tr>\n",
       "  </thead>\n",
       "  <tbody>\n",
       "    <tr>\n",
       "      <th>Afghanistan</th>\n",
       "      <td>2017</td>\n",
       "      <td>10500000.0</td>\n",
       "    </tr>\n",
       "    <tr>\n",
       "      <th>Afrique du Sud</th>\n",
       "      <td>2017</td>\n",
       "      <td>3100000.0</td>\n",
       "    </tr>\n",
       "    <tr>\n",
       "      <th>Albanie</th>\n",
       "      <td>2017</td>\n",
       "      <td>100000.0</td>\n",
       "    </tr>\n",
       "    <tr>\n",
       "      <th>Algérie</th>\n",
       "      <td>2017</td>\n",
       "      <td>1300000.0</td>\n",
       "    </tr>\n",
       "    <tr>\n",
       "      <th>Allemagne</th>\n",
       "      <td>2017</td>\n",
       "      <td>0.0</td>\n",
       "    </tr>\n",
       "    <tr>\n",
       "      <th>...</th>\n",
       "      <td>...</td>\n",
       "      <td>...</td>\n",
       "    </tr>\n",
       "    <tr>\n",
       "      <th>Venezuela (République bolivarienne du)</th>\n",
       "      <td>2017</td>\n",
       "      <td>8000000.0</td>\n",
       "    </tr>\n",
       "    <tr>\n",
       "      <th>Viet Nam</th>\n",
       "      <td>2017</td>\n",
       "      <td>6500000.0</td>\n",
       "    </tr>\n",
       "    <tr>\n",
       "      <th>Yémen</th>\n",
       "      <td>2017</td>\n",
       "      <td>0.0</td>\n",
       "    </tr>\n",
       "    <tr>\n",
       "      <th>Zambie</th>\n",
       "      <td>2017</td>\n",
       "      <td>0.0</td>\n",
       "    </tr>\n",
       "    <tr>\n",
       "      <th>Zimbabwe</th>\n",
       "      <td>2017</td>\n",
       "      <td>0.0</td>\n",
       "    </tr>\n",
       "  </tbody>\n",
       "</table>\n",
       "<p>203 rows × 2 columns</p>\n",
       "</div>"
      ],
      "text/plain": [
       "                                        Année   Habitants\n",
       "Pays                                                     \n",
       "Afghanistan                              2017  10500000.0\n",
       "Afrique du Sud                           2017   3100000.0\n",
       "Albanie                                  2017    100000.0\n",
       "Algérie                                  2017   1300000.0\n",
       "Allemagne                                2017         0.0\n",
       "...                                       ...         ...\n",
       "Venezuela (République bolivarienne du)   2017   8000000.0\n",
       "Viet Nam                                 2017   6500000.0\n",
       "Yémen                                    2017         0.0\n",
       "Zambie                                   2017         0.0\n",
       "Zimbabwe                                 2017         0.0\n",
       "\n",
       "[203 rows x 2 columns]"
      ]
     },
     "execution_count": 7,
     "metadata": {},
     "output_type": "execute_result"
    }
   ],
   "source": [
    "sous_nutrition_2017_df = sous_nutrition_df[sous_nutrition_df['Année'] == 2017]\n",
    "sous_nutrition_2017_df"
   ]
  },
  {
   "cell_type": "markdown",
   "id": "447f4647",
   "metadata": {},
   "source": [
    "## <span style=\"color : #00BFFF\">***Fichier dispo_alimentaire.csv***</span>"
   ]
  },
  {
   "cell_type": "markdown",
   "id": "1d802559",
   "metadata": {},
   "source": [
    "* ### <span style=\"color : #20B2AA\">***Nettoyage et préparation des fichiers***</span>"
   ]
  },
  {
   "cell_type": "code",
   "execution_count": 8,
   "id": "53710837",
   "metadata": {},
   "outputs": [],
   "source": [
    "dispo_alimentaire_df = pd.read_csv('dispo_alimentaire.csv', index_col ='Zone')\n",
    "dispo_alimentaire_df = dispo_alimentaire_df.fillna(value={'Aliments pour animaux' : 0, 'Autres Utilisations' : 0, 'Disponibilité alimentaire (Kcal/personne/jour)': 0, 'Disponibilité alimentaire en quantité (kg/personne/an)' : 0, 'Disponibilité de matière grasse en quantité (g/personne/jour)' : 0, 'Disponibilité de protéines en quantité (g/personne/jour)' : 0, 'Disponibilité intérieure' : 0, 'Exportations - Quantité' : 0, 'Importations - Quantité' : 0, 'Nourriture' : 0, 'Pertes' : 0, 'Production' : 0, 'Semences' : 0, 'Traitement' : 0, 'Variation de stock' : 0 })"
   ]
  },
  {
   "cell_type": "markdown",
   "id": "3e2c1b9e",
   "metadata": {},
   "source": [
    "* ### <span style=\"color : #20B2AA\">***Correction des noms de colonnes***</span>"
   ]
  },
  {
   "cell_type": "code",
   "execution_count": 9,
   "id": "15e52a64",
   "metadata": {},
   "outputs": [],
   "source": [
    "dispo_alimentaire_df.index.name=\"Pays\"\n",
    "dispo_alimentaire_df = dispo_alimentaire_df.rename(columns={'Exportations - Quantité':'Exportations', 'Importations - Quantité':'Importations'})"
   ]
  },
  {
   "cell_type": "markdown",
   "id": "91061426",
   "metadata": {},
   "source": [
    "* ### <span style=\"color : #20B2AA\">***Correction du nom de certains pays***</span>"
   ]
  },
  {
   "cell_type": "code",
   "execution_count": 10,
   "id": "57d54e27",
   "metadata": {},
   "outputs": [
    {
     "data": {
      "text/html": [
       "<div>\n",
       "<style scoped>\n",
       "    .dataframe tbody tr th:only-of-type {\n",
       "        vertical-align: middle;\n",
       "    }\n",
       "\n",
       "    .dataframe tbody tr th {\n",
       "        vertical-align: top;\n",
       "    }\n",
       "\n",
       "    .dataframe thead th {\n",
       "        text-align: right;\n",
       "    }\n",
       "</style>\n",
       "<table border=\"1\" class=\"dataframe\">\n",
       "  <thead>\n",
       "    <tr style=\"text-align: right;\">\n",
       "      <th></th>\n",
       "      <th>Produit</th>\n",
       "      <th>Origine</th>\n",
       "      <th>Aliments pour animaux</th>\n",
       "      <th>Autres Utilisations</th>\n",
       "      <th>Disponibilité alimentaire (Kcal/personne/jour)</th>\n",
       "      <th>Disponibilité alimentaire en quantité (kg/personne/an)</th>\n",
       "      <th>Disponibilité de matière grasse en quantité (g/personne/jour)</th>\n",
       "      <th>Disponibilité de protéines en quantité (g/personne/jour)</th>\n",
       "      <th>Disponibilité intérieure</th>\n",
       "      <th>Exportations</th>\n",
       "      <th>Importations</th>\n",
       "      <th>Nourriture</th>\n",
       "      <th>Pertes</th>\n",
       "      <th>Production</th>\n",
       "      <th>Semences</th>\n",
       "      <th>Traitement</th>\n",
       "      <th>Variation de stock</th>\n",
       "    </tr>\n",
       "    <tr>\n",
       "      <th>Pays</th>\n",
       "      <th></th>\n",
       "      <th></th>\n",
       "      <th></th>\n",
       "      <th></th>\n",
       "      <th></th>\n",
       "      <th></th>\n",
       "      <th></th>\n",
       "      <th></th>\n",
       "      <th></th>\n",
       "      <th></th>\n",
       "      <th></th>\n",
       "      <th></th>\n",
       "      <th></th>\n",
       "      <th></th>\n",
       "      <th></th>\n",
       "      <th></th>\n",
       "      <th></th>\n",
       "    </tr>\n",
       "  </thead>\n",
       "  <tbody>\n",
       "    <tr>\n",
       "      <th>Afghanistan</th>\n",
       "      <td>Abats Comestible</td>\n",
       "      <td>animale</td>\n",
       "      <td>0.0</td>\n",
       "      <td>0.0</td>\n",
       "      <td>5.0</td>\n",
       "      <td>1.72</td>\n",
       "      <td>0.20</td>\n",
       "      <td>0.77</td>\n",
       "      <td>53.0</td>\n",
       "      <td>0.0</td>\n",
       "      <td>0.0</td>\n",
       "      <td>53.0</td>\n",
       "      <td>0.0</td>\n",
       "      <td>53.0</td>\n",
       "      <td>0.0</td>\n",
       "      <td>0.0</td>\n",
       "      <td>0.0</td>\n",
       "    </tr>\n",
       "    <tr>\n",
       "      <th>Afghanistan</th>\n",
       "      <td>Agrumes, Autres</td>\n",
       "      <td>vegetale</td>\n",
       "      <td>0.0</td>\n",
       "      <td>0.0</td>\n",
       "      <td>1.0</td>\n",
       "      <td>1.29</td>\n",
       "      <td>0.01</td>\n",
       "      <td>0.02</td>\n",
       "      <td>41.0</td>\n",
       "      <td>2.0</td>\n",
       "      <td>40.0</td>\n",
       "      <td>39.0</td>\n",
       "      <td>2.0</td>\n",
       "      <td>3.0</td>\n",
       "      <td>0.0</td>\n",
       "      <td>0.0</td>\n",
       "      <td>0.0</td>\n",
       "    </tr>\n",
       "    <tr>\n",
       "      <th>Afghanistan</th>\n",
       "      <td>Aliments pour enfants</td>\n",
       "      <td>vegetale</td>\n",
       "      <td>0.0</td>\n",
       "      <td>0.0</td>\n",
       "      <td>1.0</td>\n",
       "      <td>0.06</td>\n",
       "      <td>0.01</td>\n",
       "      <td>0.03</td>\n",
       "      <td>2.0</td>\n",
       "      <td>0.0</td>\n",
       "      <td>2.0</td>\n",
       "      <td>2.0</td>\n",
       "      <td>0.0</td>\n",
       "      <td>0.0</td>\n",
       "      <td>0.0</td>\n",
       "      <td>0.0</td>\n",
       "      <td>0.0</td>\n",
       "    </tr>\n",
       "    <tr>\n",
       "      <th>Afghanistan</th>\n",
       "      <td>Ananas</td>\n",
       "      <td>vegetale</td>\n",
       "      <td>0.0</td>\n",
       "      <td>0.0</td>\n",
       "      <td>0.0</td>\n",
       "      <td>0.00</td>\n",
       "      <td>0.00</td>\n",
       "      <td>0.00</td>\n",
       "      <td>0.0</td>\n",
       "      <td>0.0</td>\n",
       "      <td>0.0</td>\n",
       "      <td>0.0</td>\n",
       "      <td>0.0</td>\n",
       "      <td>0.0</td>\n",
       "      <td>0.0</td>\n",
       "      <td>0.0</td>\n",
       "      <td>0.0</td>\n",
       "    </tr>\n",
       "    <tr>\n",
       "      <th>Afghanistan</th>\n",
       "      <td>Bananes</td>\n",
       "      <td>vegetale</td>\n",
       "      <td>0.0</td>\n",
       "      <td>0.0</td>\n",
       "      <td>4.0</td>\n",
       "      <td>2.70</td>\n",
       "      <td>0.02</td>\n",
       "      <td>0.05</td>\n",
       "      <td>82.0</td>\n",
       "      <td>0.0</td>\n",
       "      <td>82.0</td>\n",
       "      <td>82.0</td>\n",
       "      <td>0.0</td>\n",
       "      <td>0.0</td>\n",
       "      <td>0.0</td>\n",
       "      <td>0.0</td>\n",
       "      <td>0.0</td>\n",
       "    </tr>\n",
       "    <tr>\n",
       "      <th>...</th>\n",
       "      <td>...</td>\n",
       "      <td>...</td>\n",
       "      <td>...</td>\n",
       "      <td>...</td>\n",
       "      <td>...</td>\n",
       "      <td>...</td>\n",
       "      <td>...</td>\n",
       "      <td>...</td>\n",
       "      <td>...</td>\n",
       "      <td>...</td>\n",
       "      <td>...</td>\n",
       "      <td>...</td>\n",
       "      <td>...</td>\n",
       "      <td>...</td>\n",
       "      <td>...</td>\n",
       "      <td>...</td>\n",
       "      <td>...</td>\n",
       "    </tr>\n",
       "    <tr>\n",
       "      <th>Îles Salomon</th>\n",
       "      <td>Viande de Suides</td>\n",
       "      <td>animale</td>\n",
       "      <td>0.0</td>\n",
       "      <td>0.0</td>\n",
       "      <td>45.0</td>\n",
       "      <td>4.70</td>\n",
       "      <td>4.28</td>\n",
       "      <td>1.41</td>\n",
       "      <td>3.0</td>\n",
       "      <td>0.0</td>\n",
       "      <td>0.0</td>\n",
       "      <td>3.0</td>\n",
       "      <td>0.0</td>\n",
       "      <td>2.0</td>\n",
       "      <td>0.0</td>\n",
       "      <td>0.0</td>\n",
       "      <td>0.0</td>\n",
       "    </tr>\n",
       "    <tr>\n",
       "      <th>Îles Salomon</th>\n",
       "      <td>Viande de Volailles</td>\n",
       "      <td>animale</td>\n",
       "      <td>0.0</td>\n",
       "      <td>0.0</td>\n",
       "      <td>11.0</td>\n",
       "      <td>3.34</td>\n",
       "      <td>0.69</td>\n",
       "      <td>1.14</td>\n",
       "      <td>2.0</td>\n",
       "      <td>0.0</td>\n",
       "      <td>2.0</td>\n",
       "      <td>2.0</td>\n",
       "      <td>0.0</td>\n",
       "      <td>0.0</td>\n",
       "      <td>0.0</td>\n",
       "      <td>0.0</td>\n",
       "      <td>0.0</td>\n",
       "    </tr>\n",
       "    <tr>\n",
       "      <th>Îles Salomon</th>\n",
       "      <td>Viande, Autre</td>\n",
       "      <td>animale</td>\n",
       "      <td>0.0</td>\n",
       "      <td>0.0</td>\n",
       "      <td>0.0</td>\n",
       "      <td>0.06</td>\n",
       "      <td>0.00</td>\n",
       "      <td>0.04</td>\n",
       "      <td>0.0</td>\n",
       "      <td>0.0</td>\n",
       "      <td>0.0</td>\n",
       "      <td>0.0</td>\n",
       "      <td>0.0</td>\n",
       "      <td>0.0</td>\n",
       "      <td>0.0</td>\n",
       "      <td>0.0</td>\n",
       "      <td>0.0</td>\n",
       "    </tr>\n",
       "    <tr>\n",
       "      <th>Îles Salomon</th>\n",
       "      <td>Vin</td>\n",
       "      <td>vegetale</td>\n",
       "      <td>0.0</td>\n",
       "      <td>0.0</td>\n",
       "      <td>0.0</td>\n",
       "      <td>0.07</td>\n",
       "      <td>0.00</td>\n",
       "      <td>0.00</td>\n",
       "      <td>0.0</td>\n",
       "      <td>0.0</td>\n",
       "      <td>0.0</td>\n",
       "      <td>0.0</td>\n",
       "      <td>0.0</td>\n",
       "      <td>0.0</td>\n",
       "      <td>0.0</td>\n",
       "      <td>0.0</td>\n",
       "      <td>0.0</td>\n",
       "    </tr>\n",
       "    <tr>\n",
       "      <th>Îles Salomon</th>\n",
       "      <td>Épices, Autres</td>\n",
       "      <td>vegetale</td>\n",
       "      <td>0.0</td>\n",
       "      <td>0.0</td>\n",
       "      <td>4.0</td>\n",
       "      <td>0.48</td>\n",
       "      <td>0.21</td>\n",
       "      <td>0.15</td>\n",
       "      <td>0.0</td>\n",
       "      <td>0.0</td>\n",
       "      <td>0.0</td>\n",
       "      <td>0.0</td>\n",
       "      <td>0.0</td>\n",
       "      <td>0.0</td>\n",
       "      <td>0.0</td>\n",
       "      <td>0.0</td>\n",
       "      <td>0.0</td>\n",
       "    </tr>\n",
       "  </tbody>\n",
       "</table>\n",
       "<p>15605 rows × 17 columns</p>\n",
       "</div>"
      ],
      "text/plain": [
       "                            Produit   Origine  Aliments pour animaux  \\\n",
       "Pays                                                                   \n",
       "Afghanistan        Abats Comestible   animale                    0.0   \n",
       "Afghanistan         Agrumes, Autres  vegetale                    0.0   \n",
       "Afghanistan   Aliments pour enfants  vegetale                    0.0   \n",
       "Afghanistan                  Ananas  vegetale                    0.0   \n",
       "Afghanistan                 Bananes  vegetale                    0.0   \n",
       "...                             ...       ...                    ...   \n",
       "Îles Salomon       Viande de Suides   animale                    0.0   \n",
       "Îles Salomon    Viande de Volailles   animale                    0.0   \n",
       "Îles Salomon          Viande, Autre   animale                    0.0   \n",
       "Îles Salomon                    Vin  vegetale                    0.0   \n",
       "Îles Salomon         Épices, Autres  vegetale                    0.0   \n",
       "\n",
       "              Autres Utilisations  \\\n",
       "Pays                                \n",
       "Afghanistan                   0.0   \n",
       "Afghanistan                   0.0   \n",
       "Afghanistan                   0.0   \n",
       "Afghanistan                   0.0   \n",
       "Afghanistan                   0.0   \n",
       "...                           ...   \n",
       "Îles Salomon                  0.0   \n",
       "Îles Salomon                  0.0   \n",
       "Îles Salomon                  0.0   \n",
       "Îles Salomon                  0.0   \n",
       "Îles Salomon                  0.0   \n",
       "\n",
       "              Disponibilité alimentaire (Kcal/personne/jour)  \\\n",
       "Pays                                                           \n",
       "Afghanistan                                              5.0   \n",
       "Afghanistan                                              1.0   \n",
       "Afghanistan                                              1.0   \n",
       "Afghanistan                                              0.0   \n",
       "Afghanistan                                              4.0   \n",
       "...                                                      ...   \n",
       "Îles Salomon                                            45.0   \n",
       "Îles Salomon                                            11.0   \n",
       "Îles Salomon                                             0.0   \n",
       "Îles Salomon                                             0.0   \n",
       "Îles Salomon                                             4.0   \n",
       "\n",
       "              Disponibilité alimentaire en quantité (kg/personne/an)  \\\n",
       "Pays                                                                   \n",
       "Afghanistan                                                1.72        \n",
       "Afghanistan                                                1.29        \n",
       "Afghanistan                                                0.06        \n",
       "Afghanistan                                                0.00        \n",
       "Afghanistan                                                2.70        \n",
       "...                                                         ...        \n",
       "Îles Salomon                                               4.70        \n",
       "Îles Salomon                                               3.34        \n",
       "Îles Salomon                                               0.06        \n",
       "Îles Salomon                                               0.07        \n",
       "Îles Salomon                                               0.48        \n",
       "\n",
       "              Disponibilité de matière grasse en quantité (g/personne/jour)  \\\n",
       "Pays                                                                          \n",
       "Afghanistan                                                0.20               \n",
       "Afghanistan                                                0.01               \n",
       "Afghanistan                                                0.01               \n",
       "Afghanistan                                                0.00               \n",
       "Afghanistan                                                0.02               \n",
       "...                                                         ...               \n",
       "Îles Salomon                                               4.28               \n",
       "Îles Salomon                                               0.69               \n",
       "Îles Salomon                                               0.00               \n",
       "Îles Salomon                                               0.00               \n",
       "Îles Salomon                                               0.21               \n",
       "\n",
       "              Disponibilité de protéines en quantité (g/personne/jour)  \\\n",
       "Pays                                                                     \n",
       "Afghanistan                                                0.77          \n",
       "Afghanistan                                                0.02          \n",
       "Afghanistan                                                0.03          \n",
       "Afghanistan                                                0.00          \n",
       "Afghanistan                                                0.05          \n",
       "...                                                         ...          \n",
       "Îles Salomon                                               1.41          \n",
       "Îles Salomon                                               1.14          \n",
       "Îles Salomon                                               0.04          \n",
       "Îles Salomon                                               0.00          \n",
       "Îles Salomon                                               0.15          \n",
       "\n",
       "              Disponibilité intérieure  Exportations  Importations  \\\n",
       "Pays                                                                 \n",
       "Afghanistan                       53.0           0.0           0.0   \n",
       "Afghanistan                       41.0           2.0          40.0   \n",
       "Afghanistan                        2.0           0.0           2.0   \n",
       "Afghanistan                        0.0           0.0           0.0   \n",
       "Afghanistan                       82.0           0.0          82.0   \n",
       "...                                ...           ...           ...   \n",
       "Îles Salomon                       3.0           0.0           0.0   \n",
       "Îles Salomon                       2.0           0.0           2.0   \n",
       "Îles Salomon                       0.0           0.0           0.0   \n",
       "Îles Salomon                       0.0           0.0           0.0   \n",
       "Îles Salomon                       0.0           0.0           0.0   \n",
       "\n",
       "              Nourriture  Pertes  Production  Semences  Traitement  \\\n",
       "Pays                                                                 \n",
       "Afghanistan         53.0     0.0        53.0       0.0         0.0   \n",
       "Afghanistan         39.0     2.0         3.0       0.0         0.0   \n",
       "Afghanistan          2.0     0.0         0.0       0.0         0.0   \n",
       "Afghanistan          0.0     0.0         0.0       0.0         0.0   \n",
       "Afghanistan         82.0     0.0         0.0       0.0         0.0   \n",
       "...                  ...     ...         ...       ...         ...   \n",
       "Îles Salomon         3.0     0.0         2.0       0.0         0.0   \n",
       "Îles Salomon         2.0     0.0         0.0       0.0         0.0   \n",
       "Îles Salomon         0.0     0.0         0.0       0.0         0.0   \n",
       "Îles Salomon         0.0     0.0         0.0       0.0         0.0   \n",
       "Îles Salomon         0.0     0.0         0.0       0.0         0.0   \n",
       "\n",
       "              Variation de stock  \n",
       "Pays                              \n",
       "Afghanistan                  0.0  \n",
       "Afghanistan                  0.0  \n",
       "Afghanistan                  0.0  \n",
       "Afghanistan                  0.0  \n",
       "Afghanistan                  0.0  \n",
       "...                          ...  \n",
       "Îles Salomon                 0.0  \n",
       "Îles Salomon                 0.0  \n",
       "Îles Salomon                 0.0  \n",
       "Îles Salomon                 0.0  \n",
       "Îles Salomon                 0.0  \n",
       "\n",
       "[15605 rows x 17 columns]"
      ]
     },
     "execution_count": 10,
     "metadata": {},
     "output_type": "execute_result"
    }
   ],
   "source": [
    "dispo_alimentaire_df = dispo_alimentaire_df.rename(index={'Tchéquie (la)':'Tchéquie', 'Royaume-Uni':\"Royaume-Uni de Grande-Bretagne et d'Irlande du Nord\"})\n",
    "dispo_alimentaire_df"
   ]
  },
  {
   "cell_type": "markdown",
   "id": "43e235de",
   "metadata": {},
   "source": [
    "## <span style=\"color : #00BFFF\">***Fichier aide_alimentaire.csv***</span>"
   ]
  },
  {
   "cell_type": "code",
   "execution_count": 11,
   "id": "bfcff9a9",
   "metadata": {},
   "outputs": [],
   "source": [
    "aide_alimentaire_df = pd.read_csv(\"aide_alimentaire.csv\", index_col =\"Pays bénéficiaire\")\n",
    "aide_alimentaire_df['Valeur'] = pd.to_numeric(aide_alimentaire_df['Valeur'], errors='coerce', downcast='float')\n",
    "aide_alimentaire_df = aide_alimentaire_df.fillna(value={\"Valeur\": 0})"
   ]
  },
  {
   "cell_type": "markdown",
   "id": "d8eb4aca",
   "metadata": {},
   "source": [
    "* ### <span style=\"color : #20B2AA\">***Correction des noms de colonnes***</span>"
   ]
  },
  {
   "cell_type": "code",
   "execution_count": 12,
   "id": "8d85eaef",
   "metadata": {},
   "outputs": [],
   "source": [
    "aide_alimentaire_df.index.name=\"Pays\"\n",
    "aide_alimentaire_df = aide_alimentaire_df.rename(columns={'Valeur':'Quantité donnée'})"
   ]
  },
  {
   "cell_type": "markdown",
   "id": "acff7970",
   "metadata": {},
   "source": [
    "* ### <span style=\"color : #20B2AA\">***Correction du nom de certains pays***</span>"
   ]
  },
  {
   "cell_type": "code",
   "execution_count": 13,
   "id": "44033b86",
   "metadata": {},
   "outputs": [],
   "source": [
    "aide_alimentaire_df = aide_alimentaire_df.rename(index={'Swaziland':'Eswatini'})"
   ]
  },
  {
   "cell_type": "markdown",
   "id": "ce664310",
   "metadata": {},
   "source": [
    "* ### <span style=\"color : #20B2AA\">***Filtre (aide_alimentaire_df) depuis 2013***</span>"
   ]
  },
  {
   "cell_type": "code",
   "execution_count": 14,
   "id": "7cd989fb",
   "metadata": {},
   "outputs": [
    {
     "data": {
      "text/html": [
       "<div>\n",
       "<style scoped>\n",
       "    .dataframe tbody tr th:only-of-type {\n",
       "        vertical-align: middle;\n",
       "    }\n",
       "\n",
       "    .dataframe tbody tr th {\n",
       "        vertical-align: top;\n",
       "    }\n",
       "\n",
       "    .dataframe thead th {\n",
       "        text-align: right;\n",
       "    }\n",
       "</style>\n",
       "<table border=\"1\" class=\"dataframe\">\n",
       "  <thead>\n",
       "    <tr style=\"text-align: right;\">\n",
       "      <th></th>\n",
       "      <th>Quantité donnée</th>\n",
       "    </tr>\n",
       "    <tr>\n",
       "      <th>Pays</th>\n",
       "      <th></th>\n",
       "    </tr>\n",
       "  </thead>\n",
       "  <tbody>\n",
       "    <tr>\n",
       "      <th>Afghanistan</th>\n",
       "      <td>185452.0</td>\n",
       "    </tr>\n",
       "    <tr>\n",
       "      <th>Algérie</th>\n",
       "      <td>81114.0</td>\n",
       "    </tr>\n",
       "    <tr>\n",
       "      <th>Angola</th>\n",
       "      <td>5014.0</td>\n",
       "    </tr>\n",
       "    <tr>\n",
       "      <th>Bangladesh</th>\n",
       "      <td>348188.0</td>\n",
       "    </tr>\n",
       "    <tr>\n",
       "      <th>Bhoutan</th>\n",
       "      <td>2666.0</td>\n",
       "    </tr>\n",
       "    <tr>\n",
       "      <th>...</th>\n",
       "      <td>...</td>\n",
       "    </tr>\n",
       "    <tr>\n",
       "      <th>Zambie</th>\n",
       "      <td>3026.0</td>\n",
       "    </tr>\n",
       "    <tr>\n",
       "      <th>Zimbabwe</th>\n",
       "      <td>62570.0</td>\n",
       "    </tr>\n",
       "    <tr>\n",
       "      <th>Égypte</th>\n",
       "      <td>1122.0</td>\n",
       "    </tr>\n",
       "    <tr>\n",
       "      <th>Équateur</th>\n",
       "      <td>1362.0</td>\n",
       "    </tr>\n",
       "    <tr>\n",
       "      <th>Éthiopie</th>\n",
       "      <td>1381294.0</td>\n",
       "    </tr>\n",
       "  </tbody>\n",
       "</table>\n",
       "<p>76 rows × 1 columns</p>\n",
       "</div>"
      ],
      "text/plain": [
       "             Quantité donnée\n",
       "Pays                        \n",
       "Afghanistan         185452.0\n",
       "Algérie              81114.0\n",
       "Angola                5014.0\n",
       "Bangladesh          348188.0\n",
       "Bhoutan               2666.0\n",
       "...                      ...\n",
       "Zambie                3026.0\n",
       "Zimbabwe             62570.0\n",
       "Égypte                1122.0\n",
       "Équateur              1362.0\n",
       "Éthiopie           1381294.0\n",
       "\n",
       "[76 rows x 1 columns]"
      ]
     },
     "execution_count": 14,
     "metadata": {},
     "output_type": "execute_result"
    }
   ],
   "source": [
    "aide_alimentaire_depuis_2013_df = aide_alimentaire_df[['Quantité donnée']].groupby(['Pays']).sum()\n",
    "aide_alimentaire_depuis_2013_df"
   ]
  },
  {
   "cell_type": "markdown",
   "id": "292ba34d",
   "metadata": {},
   "source": [
    "# <center><span style=\"color : #708090\">**La proportion de personnes en état de sous-nutrition**</span>"
   ]
  },
  {
   "cell_type": "markdown",
   "id": "73334671",
   "metadata": {},
   "source": [
    "* ### <span style=\"color : #20B2AA\">***Merge entre (population_2017_df) et (sous_nutrition_2017_df)***</span>"
   ]
  },
  {
   "cell_type": "code",
   "execution_count": 15,
   "id": "69f23824",
   "metadata": {},
   "outputs": [],
   "source": [
    "merge_population_sousnutrition_df = pd.merge(population_2017_df[['Habitants']], sous_nutrition_2017_df[['Habitants']], on='Pays', suffixes=('_population','_sousnutrition'), how='left')\n",
    "merge_population_sousnutrition_df = merge_population_sousnutrition_df.fillna(value={'Habitants_sousnutrition': 0})"
   ]
  },
  {
   "cell_type": "markdown",
   "id": "22fbd6b1",
   "metadata": {},
   "source": [
    "* ### <span style=\"color : #20B2AA\">***Calcul de la proportion***</span>"
   ]
  },
  {
   "cell_type": "code",
   "execution_count": 16,
   "id": "60a5de8f",
   "metadata": {},
   "outputs": [
    {
     "name": "stdout",
     "output_type": "stream",
     "text": [
      "La proportion de personnes en état de sous-nutrition Mondial en 2017 est de: 7.1 %\n"
     ]
    }
   ],
   "source": [
    "proportion_population_sousnutrition = round((merge_population_sousnutrition_df['Habitants_sousnutrition'].sum()/merge_population_sousnutrition_df['Habitants_population'].sum())*100 ,2)\n",
    "print('La proportion de personnes en état de sous-nutrition Mondial en 2017 est de:', proportion_population_sousnutrition, '%')"
   ]
  },
  {
   "cell_type": "markdown",
   "id": "23637be2",
   "metadata": {},
   "source": [
    "* ### <span style=\"color : #20B2AA\">***Représentation dans un graphique***</span>"
   ]
  },
  {
   "cell_type": "code",
   "execution_count": 17,
   "id": "3a4df991",
   "metadata": {},
   "outputs": [
    {
     "data": {
      "image/png": "[encoded data removed]",
      "text/plain": [
       "<Figure size 432x288 with 1 Axes>"
      ]
     },
     "metadata": {},
     "output_type": "display_data"
    }
   ],
   "source": [
    "plt.pie(x=[merge_population_sousnutrition_df['Habitants_sousnutrition'].sum(), (merge_population_sousnutrition_df['Habitants_population'].sum() - merge_population_sousnutrition_df['Habitants_sousnutrition'].sum())], colors = ['#EE6055','#60D394'], autopct='%1.2f%%', shadow=True, \n",
    "explode = [0.15,0])\n",
    "plt.title('La proportion de personnes en état de Sous-nutrition Mondial en 2017')\n",
    "plt.show()"
   ]
  },
  {
   "cell_type": "markdown",
   "id": "c28b2201",
   "metadata": {},
   "source": [
    "# <center><span style=\"color : #708090\">**Le nombre théorique de personnes qui pourraient être nourries**</span>"
   ]
  },
  {
   "cell_type": "markdown",
   "id": "04925ef6",
   "metadata": {},
   "source": [
    "* ### <span style=\"color : #20B2AA\">***Regroupement 'Disponibilité alimentaire (Kcal/personne/jour)' par Pays***</span>"
   ]
  },
  {
   "cell_type": "code",
   "execution_count": 18,
   "id": "5a25bcdc",
   "metadata": {},
   "outputs": [],
   "source": [
    "dispo_alimentaire_pays_df = dispo_alimentaire_df[['Disponibilité alimentaire (Kcal/personne/jour)']].groupby(['Pays']).sum()"
   ]
  },
  {
   "cell_type": "markdown",
   "id": "eae1897c",
   "metadata": {},
   "source": [
    "* ### <span style=\"color : #20B2AA\">***Merge entre (population_2017_df) et (dispo_alimentaire_pays_df)***</span>"
   ]
  },
  {
   "cell_type": "code",
   "execution_count": 19,
   "id": "133062a9",
   "metadata": {},
   "outputs": [],
   "source": [
    "merge_population_dispo_alimentaire_pays_df = pd.merge(population_2017_df[['Habitants']], dispo_alimentaire_pays_df[['Disponibilité alimentaire (Kcal/personne/jour)']], on='Pays', how='left')\n",
    "merge_population_dispo_alimentaire_pays_df = merge_population_dispo_alimentaire_pays_df.fillna(value={'Disponibilité alimentaire (Kcal/personne/jour)': 0})"
   ]
  },
  {
   "cell_type": "markdown",
   "id": "439beb7a",
   "metadata": {},
   "source": [
    "* ### <span style=\"color : #20B2AA\">***En ajoutant une colonne pour le calcul de \"Population x Disponibilité Alimentaire (Kcal/personne/jour)\"***</span>"
   ]
  },
  {
   "cell_type": "code",
   "execution_count": 20,
   "id": "bfeb62d0",
   "metadata": {},
   "outputs": [],
   "source": [
    "merge_population_dispo_alimentaire_pays_df.loc[:,'Disponibilité alimentaire (Kcal/jour)'] = merge_population_dispo_alimentaire_pays_df['Habitants']*merge_population_dispo_alimentaire_pays_df['Disponibilité alimentaire (Kcal/personne/jour)']"
   ]
  },
  {
   "cell_type": "markdown",
   "id": "c72c49d2",
   "metadata": {},
   "source": [
    "* ### <span style=\"color : #20B2AA\">***Disponibilité Alimentaire Mondiale en 2017 par jour***</span>"
   ]
  },
  {
   "cell_type": "code",
   "execution_count": 21,
   "id": "a665432e",
   "metadata": {},
   "outputs": [],
   "source": [
    "dispo_alimentaire_mondial_2017 = merge_population_dispo_alimentaire_pays_df['Disponibilité alimentaire (Kcal/jour)'].sum()"
   ]
  },
  {
   "cell_type": "markdown",
   "id": "a7fbd252",
   "metadata": {},
   "source": [
    "* ### <span style=\"color : #20B2AA\">***Calcul de la Disponibilité Alimentaire Mondiale (Kcal/jour) entre Le Kcal nécessaire par jour***</span>"
   ]
  },
  {
   "cell_type": "code",
   "execution_count": 22,
   "id": "1e39b53b",
   "metadata": {},
   "outputs": [
    {
     "name": "stdout",
     "output_type": "stream",
     "text": [
      "Le nombre théorique de personnes pour 1800 KCal est de: 11,767,868,193.0 que représente 155.9 % de la population mondial\n",
      "Le nombre théorique de personnes pour 2500 KCal est de: 8,472,865,099.0 que représente 112.25 % de la population mondial\n",
      "Le nombre théorique de personnes pour 2700 KCal est de: 7,845,245,462.0 que représente 103.94 % de la population mondial\n"
     ]
    }
   ],
   "source": [
    "for kcal in [1800, 2500, 2700]:\n",
    "    population_theorique = round((dispo_alimentaire_mondial_2017*365)/(kcal*365),0)\n",
    "    pourcentage_population_theorique = round(((population_theorique/population_2017_df['Habitants'].sum())*100),2)\n",
    "    print ('Le nombre théorique de personnes pour', kcal, 'KCal est de:', f\"{population_theorique:,}\", 'que représente',pourcentage_population_theorique, '% de la population mondial')"
   ]
  },
  {
   "cell_type": "markdown",
   "id": "5532e4b4",
   "metadata": {},
   "source": [
    "# <center><span style=\"color : #708090\">**Le nombre théorique de personnes qui pourraient être nourries avec des produits végétaux**</span>"
   ]
  },
  {
   "cell_type": "markdown",
   "id": "2c36f57d",
   "metadata": {},
   "source": [
    "* ### <span style=\"color : #20B2AA\">***Filtre (dispo_alimentaire_df) par Origine vegetale***</span>"
   ]
  },
  {
   "cell_type": "code",
   "execution_count": 23,
   "id": "a7b03ecc",
   "metadata": {},
   "outputs": [],
   "source": [
    "dispo_alimentaire_vegetale_df = dispo_alimentaire_df.loc[dispo_alimentaire_df['Origine'] == 'vegetale',:]"
   ]
  },
  {
   "cell_type": "markdown",
   "id": "38db1a3d",
   "metadata": {},
   "source": [
    "* ### <span style=\"color : #20B2AA\">***Regroupement 'Disponibilité alimentaire (Kcal/personne/jour) Vegetale' par Pays***</span>"
   ]
  },
  {
   "cell_type": "code",
   "execution_count": 24,
   "id": "45216774",
   "metadata": {},
   "outputs": [],
   "source": [
    "dispo_alimentaire_vegetale_pays_df = dispo_alimentaire_vegetale_df[['Disponibilité alimentaire (Kcal/personne/jour)']].groupby(['Pays']).sum()"
   ]
  },
  {
   "cell_type": "markdown",
   "id": "59b83340",
   "metadata": {},
   "source": [
    "* ### <span style=\"color : #20B2AA\">***Merge entre (population_2017_df) et (dispo_alimentaire_vegetale_pays_df)***</span>"
   ]
  },
  {
   "cell_type": "code",
   "execution_count": 25,
   "id": "d2350501",
   "metadata": {},
   "outputs": [],
   "source": [
    "merge_population_dispo_alimentaire_vegetale_pays_df = pd.merge(population_2017_df[['Habitants']], dispo_alimentaire_vegetale_pays_df[['Disponibilité alimentaire (Kcal/personne/jour)']], on='Pays', how='left')\n",
    "merge_population_dispo_alimentaire_vegetale_pays_df = merge_population_dispo_alimentaire_vegetale_pays_df.fillna(value={'Disponibilité alimentaire (Kcal/personne/jour)': 0})"
   ]
  },
  {
   "cell_type": "markdown",
   "id": "63840052",
   "metadata": {},
   "source": [
    "* ### <span style=\"color : #20B2AA\">***En ajoutant une colonne pour le calcul de \"Population x Disponibilité Alimentaire (Kcal/personne/jour) vegetale\"***</span>"
   ]
  },
  {
   "cell_type": "code",
   "execution_count": 26,
   "id": "0dcd72f3",
   "metadata": {},
   "outputs": [],
   "source": [
    "merge_population_dispo_alimentaire_vegetale_pays_df.loc[:,'Disponibilité alimentaire (Kcal/jour)'] = merge_population_dispo_alimentaire_vegetale_pays_df['Habitants']*merge_population_dispo_alimentaire_vegetale_pays_df['Disponibilité alimentaire (Kcal/personne/jour)']"
   ]
  },
  {
   "cell_type": "markdown",
   "id": "6979948b",
   "metadata": {},
   "source": [
    "* ### <span style=\"color : #20B2AA\">***Disponibilité Alimentaire Vegetale Mondiale en 2017 par jour***</span>"
   ]
  },
  {
   "cell_type": "code",
   "execution_count": 27,
   "id": "151f9fdd",
   "metadata": {},
   "outputs": [],
   "source": [
    "dispo_alimentaire_vegetale_mondial_2017 = merge_population_dispo_alimentaire_vegetale_pays_df['Disponibilité alimentaire (Kcal/jour)'].sum()"
   ]
  },
  {
   "cell_type": "markdown",
   "id": "7986ef89",
   "metadata": {},
   "source": [
    "* ### <span style=\"color : #20B2AA\">***Calcul de la Disponibilité Alimentaire Vegetale Mondiale (Kcal/jour) entre Le Kcal nécessaire par jour***</span>"
   ]
  },
  {
   "cell_type": "code",
   "execution_count": 28,
   "id": "1d172258",
   "metadata": {},
   "outputs": [
    {
     "name": "stdout",
     "output_type": "stream",
     "text": [
      "Le nombre théorique de personnes pour 1800 KCal est de: 9,694,171,899.0 que représente 128.43 % de la population mondial\n",
      "Le nombre théorique de personnes pour 2500 KCal est de: 6,979,803,768.0 que représente 92.47 % de la population mondial\n",
      "Le nombre théorique de personnes pour 2700 KCal est de: 6,462,781,266.0 que représente 85.62 % de la population mondial\n"
     ]
    }
   ],
   "source": [
    "for kcal in [1800, 2500, 2700]:\n",
    "    population_theorique_vegetale = round((dispo_alimentaire_vegetale_mondial_2017*365)/(kcal*365),0)\n",
    "    pourcentage_population_theorique_vegetale = round(((population_theorique_vegetale/population_2017_df['Habitants'].sum())*100),2)\n",
    "    print ('Le nombre théorique de personnes pour', kcal, 'KCal est de:', f\"{population_theorique_vegetale:,}\", 'que représente',pourcentage_population_theorique_vegetale, '% de la population mondial')"
   ]
  },
  {
   "cell_type": "markdown",
   "id": "3d932eec",
   "metadata": {},
   "source": [
    "# <center><span style=\"color : #708090\">**L’utilisation de la disponibilité intérieure, par rapport à l’alimentation animale, celle qui est perdue et celle qui est concrètement utilisée pour l'alimentation humaine**</span>"
   ]
  },
  {
   "cell_type": "markdown",
   "id": "22b618b5",
   "metadata": {},
   "source": [
    "### <span style=\"color : #000000\">***Les 10 variables qui précisent les utilisations/moyens d’acquisition de la disponibilité alimentaire***</span>\n",
    "\n",
    "- <span style=\"color : #1E90FF\">**Disponibilité intérieure = Production + Importations + Variation de stock - Exportations**</span>\n",
    "\n",
    "- <span style=\"color : #1E90FF\">**Disponibilité intérieure = Nourriture + Pertes + Semences + Aliments pour animaux + Traitement + Autres Utilisations**</span>"
   ]
  },
  {
   "cell_type": "markdown",
   "id": "b00152b7",
   "metadata": {},
   "source": [
    "* ### <span style=\"color : #20B2AA\">***Regroupement les 10 variables de Disponibilité intérieure par Pays***</span>"
   ]
  },
  {
   "cell_type": "code",
   "execution_count": 29,
   "id": "e5dca3c5",
   "metadata": {},
   "outputs": [],
   "source": [
    "disponibilité_intérieure_df = dispo_alimentaire_df[['Production','Importations','Variation de stock','Exportations','Disponibilité intérieure','Nourriture','Pertes','Semences','Aliments pour animaux','Traitement','Autres Utilisations']].groupby(['Pays']).sum()"
   ]
  },
  {
   "cell_type": "markdown",
   "id": "50e5aa34",
   "metadata": {},
   "source": [
    "* ### <span style=\"color : #20B2AA\">***Calcul de la Proportion de las variables par rapport a la disponibilité intérieure***</span>"
   ]
  },
  {
   "cell_type": "code",
   "execution_count": 30,
   "id": "47317639",
   "metadata": {},
   "outputs": [
    {
     "name": "stdout",
     "output_type": "stream",
     "text": [
      "La proportion de Aliments pour animaux par rapport a la \"Disponibilité intérieure\" est de: 13.24 %\n",
      "La proportion de Pertes par rapport a la \"Disponibilité intérieure\" est de: 4.61 %\n",
      "La proportion de Nourriture par rapport a la \"Disponibilité intérieure\" est de: 49.51 %\n"
     ]
    }
   ],
   "source": [
    "for element in ['Aliments pour animaux', 'Pertes', 'Nourriture']: \n",
    "        proportion_aliment = round((disponibilité_intérieure_df[element].sum()/disponibilité_intérieure_df['Disponibilité intérieure'].sum())*100 ,2)\n",
    "        print ('La proportion de' , element, 'par rapport a la \"Disponibilité intérieure\" est de:', proportion_aliment, '%')"
   ]
  },
  {
   "cell_type": "markdown",
   "id": "a7f1bf53",
   "metadata": {},
   "source": [
    "# <center><span style=\"color : #708090\">**L’utilisation des céréales, par rapport la répartition entre l’alimentation humaine et l’alimentation pour animaux**</span>"
   ]
  },
  {
   "cell_type": "markdown",
   "id": "f6a67444",
   "metadata": {},
   "source": [
    "<span style=\"color : #000000\">***Liste de Céréales ['Blé', 'Riz (Eq Blanchi)', 'Orge', 'Maïs', 'Seigle', 'Avoine', 'Millet', 'Sorgho', 'Céréales, Autres']***</span>"
   ]
  },
  {
   "cell_type": "markdown",
   "id": "62421fae",
   "metadata": {},
   "source": [
    "* ### <span style=\"color : #20B2AA\">***Filtre (dispo_alimentaire_df) pour Produits Céréales***</span>"
   ]
  },
  {
   "cell_type": "code",
   "execution_count": 31,
   "id": "08fa77b8",
   "metadata": {},
   "outputs": [],
   "source": [
    "dispo_alimentaire_céréales_df = dispo_alimentaire_df.loc[(dispo_alimentaire_df['Produit'].isin(['Blé', 'Riz (Eq Blanchi)', 'Orge', 'Maïs', 'Seigle', 'Avoine', 'Millet', 'Sorgho', 'Céréales, Autres']))]"
   ]
  },
  {
   "cell_type": "markdown",
   "id": "70f7ca0c",
   "metadata": {},
   "source": [
    "* ### <span style=\"color : #20B2AA\">***Calcul de la Proportion de las variables par rapport a la disponibilité intérieure en Céréales***</span>"
   ]
  },
  {
   "cell_type": "code",
   "execution_count": 32,
   "id": "387bbfa3",
   "metadata": {},
   "outputs": [
    {
     "name": "stdout",
     "output_type": "stream",
     "text": [
      "La proportion de Nourriture par rapport a la \"Disponibilité intérieure\" en Céréales est de: 42.75 %\n",
      "La proportion de Aliments pour animaux par rapport a la \"Disponibilité intérieure\" en Céréales est de: 36.29 %\n"
     ]
    }
   ],
   "source": [
    "for variable in ['Nourriture', 'Aliments pour animaux']: \n",
    "        proportion_variable = round((dispo_alimentaire_céréales_df[variable].sum()/dispo_alimentaire_céréales_df['Disponibilité intérieure'].sum())*100 ,2)\n",
    "        print ('La proportion de' , variable, 'par rapport a la \"Disponibilité intérieure\" en Céréales est de:', proportion_variable, '%')"
   ]
  },
  {
   "cell_type": "markdown",
   "id": "df4d0642",
   "metadata": {},
   "source": [
    "# <center><span style=\"color : #708090\">**L'utilisation du manioc par la Thaïlande**</span>"
   ]
  },
  {
   "cell_type": "markdown",
   "id": "b668dfa7",
   "metadata": {},
   "source": [
    "* ### <span style=\"color : #20B2AA\">***Filtre (dispo_alimentaire_df) par Pays Thaïlande***</span>"
   ]
  },
  {
   "cell_type": "code",
   "execution_count": 33,
   "id": "7650c048",
   "metadata": {},
   "outputs": [],
   "source": [
    "dispo_alimentaire_Thailande_df = dispo_alimentaire_df.loc['Thaïlande']"
   ]
  },
  {
   "cell_type": "markdown",
   "id": "76a3b4bc",
   "metadata": {},
   "source": [
    "* ### <span style=\"color : #20B2AA\">***Filtre (dispo_alimentaire_Thailande) par Produit: Manioc***</span>"
   ]
  },
  {
   "cell_type": "code",
   "execution_count": 34,
   "id": "1cc43d0f",
   "metadata": {},
   "outputs": [],
   "source": [
    "dispo_alimentaire_Thailande_manioc_df = dispo_alimentaire_Thailande_df.loc[dispo_alimentaire_Thailande_df['Produit'] == 'Manioc']"
   ]
  },
  {
   "cell_type": "markdown",
   "id": "84880f42",
   "metadata": {},
   "source": [
    "* ### <span style=\"color : #20B2AA\">***Calcul de la proportion d'Exportation par rapport à la production de Manioc***</span>"
   ]
  },
  {
   "cell_type": "code",
   "execution_count": 35,
   "id": "0b329906",
   "metadata": {},
   "outputs": [
    {
     "name": "stdout",
     "output_type": "stream",
     "text": [
      "La proportion d'Exportation par rapport à la Production de Manioc est de: 83.41 %\n"
     ]
    }
   ],
   "source": [
    "proportion_exportation_production = round((dispo_alimentaire_Thailande_manioc_df['Exportations'].sum()/dispo_alimentaire_Thailande_manioc_df['Production'].sum())*100 ,2)\n",
    "print(\"La proportion d'Exportation par rapport à la Production de Manioc est de:\", proportion_exportation_production, '%')"
   ]
  },
  {
   "cell_type": "markdown",
   "id": "a5ed0788",
   "metadata": {},
   "source": [
    "* ### <span style=\"color : #20B2AA\">***Calcul de la proportion de sous-nutrition en Thaïlande***</span>"
   ]
  },
  {
   "cell_type": "code",
   "execution_count": 36,
   "id": "9ea6aea9",
   "metadata": {},
   "outputs": [
    {
     "name": "stdout",
     "output_type": "stream",
     "text": [
      "La proportion de Sous-Nutrition en Thaïlande est de: 8.96 %\n"
     ]
    }
   ],
   "source": [
    "merge_population_sousnutrition_Thailande = merge_population_sousnutrition_df.loc['Thaïlande']\n",
    "proportion_population_sousnutrition_Thailande = round((merge_population_sousnutrition_Thailande['Habitants_sousnutrition']/merge_population_sousnutrition_Thailande['Habitants_population'])*100 ,2)\n",
    "print('La proportion de Sous-Nutrition en Thaïlande est de:', proportion_population_sousnutrition_Thailande, '%')"
   ]
  },
  {
   "cell_type": "markdown",
   "id": "73125251",
   "metadata": {},
   "source": [
    "# <center><span style=\"color : #708090\">**Les pays pour lesquels la proportion de personnes sous-alimentées est la plus forte en 2017**</span>"
   ]
  },
  {
   "cell_type": "markdown",
   "id": "d843ee55",
   "metadata": {},
   "source": [
    "* ### <span style=\"color : #20B2AA\">***Calcul de proportion de sous-nutrition par pays***</span>"
   ]
  },
  {
   "cell_type": "code",
   "execution_count": 37,
   "id": "746871a6",
   "metadata": {},
   "outputs": [],
   "source": [
    "merge_population_sousnutrition_df.loc[:,\"Proportion\"] = round((merge_population_sousnutrition_df['Habitants_sousnutrition']/merge_population_sousnutrition_df['Habitants_population']),4)"
   ]
  },
  {
   "cell_type": "markdown",
   "id": "798f455a",
   "metadata": {},
   "source": [
    "* ### <span style=\"color : #20B2AA\">***Les 20 pays les plus touchés par la Sous-Nutrition***</span>"
   ]
  },
  {
   "cell_type": "code",
   "execution_count": 38,
   "id": "38374dbb",
   "metadata": {},
   "outputs": [
    {
     "data": {
      "text/html": [
       "<style type=\"text/css\">\n",
       "</style>\n",
       "<table id=\"T_94374_\">\n",
       "  <thead>\n",
       "    <tr>\n",
       "      <th class=\"blank level0\" >&nbsp;</th>\n",
       "      <th class=\"col_heading level0 col0\" >Habitants_population</th>\n",
       "      <th class=\"col_heading level0 col1\" >Habitants_sousnutrition</th>\n",
       "      <th class=\"col_heading level0 col2\" >Proportion</th>\n",
       "    </tr>\n",
       "    <tr>\n",
       "      <th class=\"index_name level0\" >Pays</th>\n",
       "      <th class=\"blank col0\" >&nbsp;</th>\n",
       "      <th class=\"blank col1\" >&nbsp;</th>\n",
       "      <th class=\"blank col2\" >&nbsp;</th>\n",
       "    </tr>\n",
       "  </thead>\n",
       "  <tbody>\n",
       "    <tr>\n",
       "      <th id=\"T_94374_level0_row0\" class=\"row_heading level0 row0\" >Haïti</th>\n",
       "      <td id=\"T_94374_row0_col0\" class=\"data row0 col0\" >10982366</td>\n",
       "      <td id=\"T_94374_row0_col1\" class=\"data row0 col1\" >5300000</td>\n",
       "      <td id=\"T_94374_row0_col2\" class=\"data row0 col2\" >48.26%</td>\n",
       "    </tr>\n",
       "    <tr>\n",
       "      <th id=\"T_94374_level0_row1\" class=\"row_heading level0 row1\" >République populaire démocratique de Corée</th>\n",
       "      <td id=\"T_94374_row1_col0\" class=\"data row1 col0\" >25429825</td>\n",
       "      <td id=\"T_94374_row1_col1\" class=\"data row1 col1\" >12000000</td>\n",
       "      <td id=\"T_94374_row1_col2\" class=\"data row1 col2\" >47.19%</td>\n",
       "    </tr>\n",
       "    <tr>\n",
       "      <th id=\"T_94374_level0_row2\" class=\"row_heading level0 row2\" >Madagascar</th>\n",
       "      <td id=\"T_94374_row2_col0\" class=\"data row2 col0\" >25570512</td>\n",
       "      <td id=\"T_94374_row2_col1\" class=\"data row2 col1\" >10500000</td>\n",
       "      <td id=\"T_94374_row2_col2\" class=\"data row2 col2\" >41.06%</td>\n",
       "    </tr>\n",
       "    <tr>\n",
       "      <th id=\"T_94374_level0_row3\" class=\"row_heading level0 row3\" >Libéria</th>\n",
       "      <td id=\"T_94374_row3_col0\" class=\"data row3 col0\" >4702226</td>\n",
       "      <td id=\"T_94374_row3_col1\" class=\"data row3 col1\" >1800000</td>\n",
       "      <td id=\"T_94374_row3_col2\" class=\"data row3 col2\" >38.28%</td>\n",
       "    </tr>\n",
       "    <tr>\n",
       "      <th id=\"T_94374_level0_row4\" class=\"row_heading level0 row4\" >Lesotho</th>\n",
       "      <td id=\"T_94374_row4_col0\" class=\"data row4 col0\" >2091534</td>\n",
       "      <td id=\"T_94374_row4_col1\" class=\"data row4 col1\" >800000</td>\n",
       "      <td id=\"T_94374_row4_col2\" class=\"data row4 col2\" >38.25%</td>\n",
       "    </tr>\n",
       "    <tr>\n",
       "      <th id=\"T_94374_level0_row5\" class=\"row_heading level0 row5\" >Tchad</th>\n",
       "      <td id=\"T_94374_row5_col0\" class=\"data row5 col0\" >15016753</td>\n",
       "      <td id=\"T_94374_row5_col1\" class=\"data row5 col1\" >5700000</td>\n",
       "      <td id=\"T_94374_row5_col2\" class=\"data row5 col2\" >37.96%</td>\n",
       "    </tr>\n",
       "    <tr>\n",
       "      <th id=\"T_94374_level0_row6\" class=\"row_heading level0 row6\" >Rwanda</th>\n",
       "      <td id=\"T_94374_row6_col0\" class=\"data row6 col0\" >11980961</td>\n",
       "      <td id=\"T_94374_row6_col1\" class=\"data row6 col1\" >4200000</td>\n",
       "      <td id=\"T_94374_row6_col2\" class=\"data row6 col2\" >35.06%</td>\n",
       "    </tr>\n",
       "    <tr>\n",
       "      <th id=\"T_94374_level0_row7\" class=\"row_heading level0 row7\" >Mozambique</th>\n",
       "      <td id=\"T_94374_row7_col0\" class=\"data row7 col0\" >28649018</td>\n",
       "      <td id=\"T_94374_row7_col1\" class=\"data row7 col1\" >9400000</td>\n",
       "      <td id=\"T_94374_row7_col2\" class=\"data row7 col2\" >32.81%</td>\n",
       "    </tr>\n",
       "    <tr>\n",
       "      <th id=\"T_94374_level0_row8\" class=\"row_heading level0 row8\" >Timor-Leste</th>\n",
       "      <td id=\"T_94374_row8_col0\" class=\"data row8 col0\" >1243258</td>\n",
       "      <td id=\"T_94374_row8_col1\" class=\"data row8 col1\" >400000</td>\n",
       "      <td id=\"T_94374_row8_col2\" class=\"data row8 col2\" >32.17%</td>\n",
       "    </tr>\n",
       "    <tr>\n",
       "      <th id=\"T_94374_level0_row9\" class=\"row_heading level0 row9\" >Afghanistan</th>\n",
       "      <td id=\"T_94374_row9_col0\" class=\"data row9 col0\" >36296113</td>\n",
       "      <td id=\"T_94374_row9_col1\" class=\"data row9 col1\" >10500000</td>\n",
       "      <td id=\"T_94374_row9_col2\" class=\"data row9 col2\" >28.93%</td>\n",
       "    </tr>\n",
       "    <tr>\n",
       "      <th id=\"T_94374_level0_row10\" class=\"row_heading level0 row10\" >Congo</th>\n",
       "      <td id=\"T_94374_row10_col0\" class=\"data row10 col0\" >5110695</td>\n",
       "      <td id=\"T_94374_row10_col1\" class=\"data row10 col1\" >1400000</td>\n",
       "      <td id=\"T_94374_row10_col2\" class=\"data row10 col2\" >27.39%</td>\n",
       "    </tr>\n",
       "    <tr>\n",
       "      <th id=\"T_94374_level0_row11\" class=\"row_heading level0 row11\" >Venezuela (République bolivarienne du)</th>\n",
       "      <td id=\"T_94374_row11_col0\" class=\"data row11 col0\" >29402484</td>\n",
       "      <td id=\"T_94374_row11_col1\" class=\"data row11 col1\" >8000000</td>\n",
       "      <td id=\"T_94374_row11_col2\" class=\"data row11 col2\" >27.21%</td>\n",
       "    </tr>\n",
       "    <tr>\n",
       "      <th id=\"T_94374_level0_row12\" class=\"row_heading level0 row12\" >Sierra Leone</th>\n",
       "      <td id=\"T_94374_row12_col0\" class=\"data row12 col0\" >7488423</td>\n",
       "      <td id=\"T_94374_row12_col1\" class=\"data row12 col1\" >2000000</td>\n",
       "      <td id=\"T_94374_row12_col2\" class=\"data row12 col2\" >26.71%</td>\n",
       "    </tr>\n",
       "    <tr>\n",
       "      <th id=\"T_94374_level0_row13\" class=\"row_heading level0 row13\" >République-Unie de Tanzanie</th>\n",
       "      <td id=\"T_94374_row13_col0\" class=\"data row13 col0\" >54660339</td>\n",
       "      <td id=\"T_94374_row13_col1\" class=\"data row13 col1\" >13400000</td>\n",
       "      <td id=\"T_94374_row13_col2\" class=\"data row13 col2\" >24.52%</td>\n",
       "    </tr>\n",
       "    <tr>\n",
       "      <th id=\"T_94374_level0_row14\" class=\"row_heading level0 row14\" >Iraq</th>\n",
       "      <td id=\"T_94374_row14_col0\" class=\"data row14 col0\" >37552781</td>\n",
       "      <td id=\"T_94374_row14_col1\" class=\"data row14 col1\" >9000000</td>\n",
       "      <td id=\"T_94374_row14_col2\" class=\"data row14 col2\" >23.97%</td>\n",
       "    </tr>\n",
       "    <tr>\n",
       "      <th id=\"T_94374_level0_row15\" class=\"row_heading level0 row15\" >Kenya</th>\n",
       "      <td id=\"T_94374_row15_col0\" class=\"data row15 col0\" >50221142</td>\n",
       "      <td id=\"T_94374_row15_col1\" class=\"data row15 col1\" >11900000</td>\n",
       "      <td id=\"T_94374_row15_col2\" class=\"data row15 col2\" >23.70%</td>\n",
       "    </tr>\n",
       "    <tr>\n",
       "      <th id=\"T_94374_level0_row16\" class=\"row_heading level0 row16\" >Botswana</th>\n",
       "      <td id=\"T_94374_row16_col0\" class=\"data row16 col0\" >2205080</td>\n",
       "      <td id=\"T_94374_row16_col1\" class=\"data row16 col1\" >500000</td>\n",
       "      <td id=\"T_94374_row16_col2\" class=\"data row16 col2\" >22.67%</td>\n",
       "    </tr>\n",
       "    <tr>\n",
       "      <th id=\"T_94374_level0_row17\" class=\"row_heading level0 row17\" >Togo</th>\n",
       "      <td id=\"T_94374_row17_col0\" class=\"data row17 col0\" >7698474</td>\n",
       "      <td id=\"T_94374_row17_col1\" class=\"data row17 col1\" >1600000</td>\n",
       "      <td id=\"T_94374_row17_col2\" class=\"data row17 col2\" >20.78%</td>\n",
       "    </tr>\n",
       "    <tr>\n",
       "      <th id=\"T_94374_level0_row18\" class=\"row_heading level0 row18\" >Côte d'Ivoire</th>\n",
       "      <td id=\"T_94374_row18_col0\" class=\"data row18 col0\" >24437470</td>\n",
       "      <td id=\"T_94374_row18_col1\" class=\"data row18 col1\" >4900000</td>\n",
       "      <td id=\"T_94374_row18_col2\" class=\"data row18 col2\" >20.05%</td>\n",
       "    </tr>\n",
       "    <tr>\n",
       "      <th id=\"T_94374_level0_row19\" class=\"row_heading level0 row19\" >Éthiopie</th>\n",
       "      <td id=\"T_94374_row19_col0\" class=\"data row19 col0\" >106399924</td>\n",
       "      <td id=\"T_94374_row19_col1\" class=\"data row19 col1\" >21100000</td>\n",
       "      <td id=\"T_94374_row19_col2\" class=\"data row19 col2\" >19.83%</td>\n",
       "    </tr>\n",
       "  </tbody>\n",
       "</table>\n"
      ],
      "text/plain": [
       "<pandas.io.formats.style.Styler at 0x1f7f8384b20>"
      ]
     },
     "execution_count": 38,
     "metadata": {},
     "output_type": "execute_result"
    }
   ],
   "source": [
    "top20_sous_nutrition  = merge_population_sousnutrition_df.sort_values('Proportion',ascending=False)\n",
    "top20_sous_nutrition.head(20).style.format({'Habitants_population':'{:.0f}','Habitants_sousnutrition':'{:.0f}','Proportion': '{:.2%}'})"
   ]
  },
  {
   "cell_type": "markdown",
   "id": "8e2feb7d",
   "metadata": {},
   "source": [
    "* ### <span style=\"color : #20B2AA\">***Représentation dans un graphique 'Les 20 pays les plus touchés par la Sous-Nutrition'***</span>"
   ]
  },
  {
   "cell_type": "code",
   "execution_count": 39,
   "id": "610a7e2f",
   "metadata": {},
   "outputs": [
    {
     "data": {
      "image/png": "[encoded data removed]",
      "text/plain": [
       "<Figure size 648x432 with 1 Axes>"
      ]
     },
     "metadata": {
      "needs_background": "light"
     },
     "output_type": "display_data"
    }
   ],
   "source": [
    "visual = top20_sous_nutrition.head(20)\n",
    "fig,ax = plt.subplots(figsize=(9,6))\n",
    "sns.barplot(x= visual.index.tolist() ,y='Proportion',data=visual, ci=95,ax=ax)\n",
    "ax.set_title('Les pays pour lesquels la proportion de personnes sous-alimentées est la plus forte en 2017',backgroundcolor='#565656',\n",
    " fontsize=20, weight='bold',color='white',style='italic',loc='center',pad=30)\n",
    "ax.tick_params(labelsize=16,length=0)\n",
    "plt.box(False)\n",
    "ax.yaxis.grid(linewidth=0.5,color='grey',linestyle='-.')\n",
    "ax.set_axisbelow(True)\n",
    "ax.set_xlabel('Pays',weight='bold',size=15)\n",
    "ax.set_ylabel('Pourcentage',weight='bold',size=15)\n",
    "plt.yticks(np.arange(0, 0.6, 0.1))\n",
    "plt.xticks(rotation=90,color='#565656')\n",
    "plt.show()"
   ]
  },
  {
   "cell_type": "markdown",
   "id": "9cf6877d",
   "metadata": {},
   "source": [
    "# <center><span style=\"color : #708090\">**Les pays qui ont le plus bénéficié de l'aide depuis 2013**</span>"
   ]
  },
  {
   "cell_type": "markdown",
   "id": "bf8b6b8f",
   "metadata": {},
   "source": [
    "* ### <span style=\"color : #20B2AA\">***Regroupement et classement des données***</span>"
   ]
  },
  {
   "cell_type": "code",
   "execution_count": 40,
   "id": "6afc0838",
   "metadata": {},
   "outputs": [
    {
     "data": {
      "text/html": [
       "<div>\n",
       "<style scoped>\n",
       "    .dataframe tbody tr th:only-of-type {\n",
       "        vertical-align: middle;\n",
       "    }\n",
       "\n",
       "    .dataframe tbody tr th {\n",
       "        vertical-align: top;\n",
       "    }\n",
       "\n",
       "    .dataframe thead th {\n",
       "        text-align: right;\n",
       "    }\n",
       "</style>\n",
       "<table border=\"1\" class=\"dataframe\">\n",
       "  <thead>\n",
       "    <tr style=\"text-align: right;\">\n",
       "      <th></th>\n",
       "      <th>Quantité donnée</th>\n",
       "    </tr>\n",
       "    <tr>\n",
       "      <th>Pays</th>\n",
       "      <th></th>\n",
       "    </tr>\n",
       "  </thead>\n",
       "  <tbody>\n",
       "    <tr>\n",
       "      <th>République arabe syrienne</th>\n",
       "      <td>1,858,943.0</td>\n",
       "    </tr>\n",
       "    <tr>\n",
       "      <th>Éthiopie</th>\n",
       "      <td>1,381,294.0</td>\n",
       "    </tr>\n",
       "    <tr>\n",
       "      <th>Yémen</th>\n",
       "      <td>1,206,484.0</td>\n",
       "    </tr>\n",
       "    <tr>\n",
       "      <th>Soudan du Sud</th>\n",
       "      <td>695,248.0</td>\n",
       "    </tr>\n",
       "    <tr>\n",
       "      <th>Soudan</th>\n",
       "      <td>669,784.0</td>\n",
       "    </tr>\n",
       "    <tr>\n",
       "      <th>Kenya</th>\n",
       "      <td>552,836.0</td>\n",
       "    </tr>\n",
       "    <tr>\n",
       "      <th>Bangladesh</th>\n",
       "      <td>348,188.0</td>\n",
       "    </tr>\n",
       "    <tr>\n",
       "      <th>Somalie</th>\n",
       "      <td>292,678.0</td>\n",
       "    </tr>\n",
       "    <tr>\n",
       "      <th>République démocratique du Congo</th>\n",
       "      <td>288,502.0</td>\n",
       "    </tr>\n",
       "    <tr>\n",
       "      <th>Niger</th>\n",
       "      <td>276,344.0</td>\n",
       "    </tr>\n",
       "    <tr>\n",
       "      <th>Tchad</th>\n",
       "      <td>267,966.0</td>\n",
       "    </tr>\n",
       "    <tr>\n",
       "      <th>Pakistan</th>\n",
       "      <td>231,072.0</td>\n",
       "    </tr>\n",
       "    <tr>\n",
       "      <th>République populaire démocratique de Corée</th>\n",
       "      <td>187,412.0</td>\n",
       "    </tr>\n",
       "    <tr>\n",
       "      <th>Afghanistan</th>\n",
       "      <td>185,452.0</td>\n",
       "    </tr>\n",
       "    <tr>\n",
       "      <th>République-Unie de Tanzanie</th>\n",
       "      <td>172,022.0</td>\n",
       "    </tr>\n",
       "    <tr>\n",
       "      <th>Philippines</th>\n",
       "      <td>171,722.0</td>\n",
       "    </tr>\n",
       "    <tr>\n",
       "      <th>Palestine</th>\n",
       "      <td>169,684.0</td>\n",
       "    </tr>\n",
       "    <tr>\n",
       "      <th>Mali</th>\n",
       "      <td>149,586.0</td>\n",
       "    </tr>\n",
       "    <tr>\n",
       "      <th>Haïti</th>\n",
       "      <td>116,450.0</td>\n",
       "    </tr>\n",
       "    <tr>\n",
       "      <th>Nicaragua</th>\n",
       "      <td>115,332.0</td>\n",
       "    </tr>\n",
       "  </tbody>\n",
       "</table>\n",
       "</div>"
      ],
      "text/plain": [
       "                                           Quantité donnée\n",
       "Pays                                                      \n",
       "République arabe syrienne                      1,858,943.0\n",
       "Éthiopie                                       1,381,294.0\n",
       "Yémen                                          1,206,484.0\n",
       "Soudan du Sud                                    695,248.0\n",
       "Soudan                                           669,784.0\n",
       "Kenya                                            552,836.0\n",
       "Bangladesh                                       348,188.0\n",
       "Somalie                                          292,678.0\n",
       "République démocratique du Congo                 288,502.0\n",
       "Niger                                            276,344.0\n",
       "Tchad                                            267,966.0\n",
       "Pakistan                                         231,072.0\n",
       "République populaire démocratique de Corée       187,412.0\n",
       "Afghanistan                                      185,452.0\n",
       "République-Unie de Tanzanie                      172,022.0\n",
       "Philippines                                      171,722.0\n",
       "Palestine                                        169,684.0\n",
       "Mali                                             149,586.0\n",
       "Haïti                                            116,450.0\n",
       "Nicaragua                                        115,332.0"
      ]
     },
     "execution_count": 40,
     "metadata": {},
     "output_type": "execute_result"
    }
   ],
   "source": [
    "top20_aide_alimentaire_depuis_2013_df  = aide_alimentaire_depuis_2013_df.sort_values('Quantité donnée', ascending=False)\n",
    "top20_aide_alimentaire_depuis_2013_df['Quantité donnée'] = top20_aide_alimentaire_depuis_2013_df['Quantité donnée'].astype(float).apply(lambda x: f'{x:,}')\n",
    "top20_aide_alimentaire_depuis_2013_df.head(20)"
   ]
  },
  {
   "cell_type": "markdown",
   "id": "8502d306",
   "metadata": {},
   "source": [
    "# <center><span style=\"color : #708090\">**Les pays avec le plus/le moins de disponibilité/habitant**</span>"
   ]
  },
  {
   "cell_type": "markdown",
   "id": "e56edf11",
   "metadata": {},
   "source": [
    "* ### <span style=\"color : #20B2AA\">***Top 10 pays avec plus de disponibilité alimentaire/habitant***</span>"
   ]
  },
  {
   "cell_type": "code",
   "execution_count": 41,
   "id": "0509a2dc",
   "metadata": {},
   "outputs": [
    {
     "data": {
      "text/html": [
       "<div>\n",
       "<style scoped>\n",
       "    .dataframe tbody tr th:only-of-type {\n",
       "        vertical-align: middle;\n",
       "    }\n",
       "\n",
       "    .dataframe tbody tr th {\n",
       "        vertical-align: top;\n",
       "    }\n",
       "\n",
       "    .dataframe thead th {\n",
       "        text-align: right;\n",
       "    }\n",
       "</style>\n",
       "<table border=\"1\" class=\"dataframe\">\n",
       "  <thead>\n",
       "    <tr style=\"text-align: right;\">\n",
       "      <th></th>\n",
       "      <th>Disponibilité alimentaire (Kcal/personne/jour)</th>\n",
       "    </tr>\n",
       "    <tr>\n",
       "      <th>Pays</th>\n",
       "      <th></th>\n",
       "    </tr>\n",
       "  </thead>\n",
       "  <tbody>\n",
       "    <tr>\n",
       "      <th>Autriche</th>\n",
       "      <td>3770.0</td>\n",
       "    </tr>\n",
       "    <tr>\n",
       "      <th>Belgique</th>\n",
       "      <td>3737.0</td>\n",
       "    </tr>\n",
       "    <tr>\n",
       "      <th>Turquie</th>\n",
       "      <td>3708.0</td>\n",
       "    </tr>\n",
       "    <tr>\n",
       "      <th>États-Unis d'Amérique</th>\n",
       "      <td>3682.0</td>\n",
       "    </tr>\n",
       "    <tr>\n",
       "      <th>Israël</th>\n",
       "      <td>3610.0</td>\n",
       "    </tr>\n",
       "    <tr>\n",
       "      <th>Irlande</th>\n",
       "      <td>3602.0</td>\n",
       "    </tr>\n",
       "    <tr>\n",
       "      <th>Italie</th>\n",
       "      <td>3578.0</td>\n",
       "    </tr>\n",
       "    <tr>\n",
       "      <th>Luxembourg</th>\n",
       "      <td>3540.0</td>\n",
       "    </tr>\n",
       "    <tr>\n",
       "      <th>Égypte</th>\n",
       "      <td>3518.0</td>\n",
       "    </tr>\n",
       "    <tr>\n",
       "      <th>Allemagne</th>\n",
       "      <td>3503.0</td>\n",
       "    </tr>\n",
       "  </tbody>\n",
       "</table>\n",
       "</div>"
      ],
      "text/plain": [
       "                       Disponibilité alimentaire (Kcal/personne/jour)\n",
       "Pays                                                                 \n",
       "Autriche                                                       3770.0\n",
       "Belgique                                                       3737.0\n",
       "Turquie                                                        3708.0\n",
       "États-Unis d'Amérique                                          3682.0\n",
       "Israël                                                         3610.0\n",
       "Irlande                                                        3602.0\n",
       "Italie                                                         3578.0\n",
       "Luxembourg                                                     3540.0\n",
       "Égypte                                                         3518.0\n",
       "Allemagne                                                      3503.0"
      ]
     },
     "execution_count": 41,
     "metadata": {},
     "output_type": "execute_result"
    }
   ],
   "source": [
    "top10_pays_dispo_alimentaire_df  = dispo_alimentaire_pays_df.sort_values(\"Disponibilité alimentaire (Kcal/personne/jour)\",ascending=False)\n",
    "top10_pays_dispo_alimentaire_df.head(10)"
   ]
  },
  {
   "cell_type": "markdown",
   "id": "dfec4412",
   "metadata": {},
   "source": [
    "* ### <span style=\"color : #20B2AA\">***Top 10 pays avec moins de disponibilité alimentaire/habitant***</span>"
   ]
  },
  {
   "cell_type": "code",
   "execution_count": 42,
   "id": "ad67803c",
   "metadata": {},
   "outputs": [
    {
     "data": {
      "text/html": [
       "<div>\n",
       "<style scoped>\n",
       "    .dataframe tbody tr th:only-of-type {\n",
       "        vertical-align: middle;\n",
       "    }\n",
       "\n",
       "    .dataframe tbody tr th {\n",
       "        vertical-align: top;\n",
       "    }\n",
       "\n",
       "    .dataframe thead th {\n",
       "        text-align: right;\n",
       "    }\n",
       "</style>\n",
       "<table border=\"1\" class=\"dataframe\">\n",
       "  <thead>\n",
       "    <tr style=\"text-align: right;\">\n",
       "      <th></th>\n",
       "      <th>Disponibilité alimentaire (Kcal/personne/jour)</th>\n",
       "    </tr>\n",
       "    <tr>\n",
       "      <th>Pays</th>\n",
       "      <th></th>\n",
       "    </tr>\n",
       "  </thead>\n",
       "  <tbody>\n",
       "    <tr>\n",
       "      <th>République centrafricaine</th>\n",
       "      <td>1879.0</td>\n",
       "    </tr>\n",
       "    <tr>\n",
       "      <th>Zambie</th>\n",
       "      <td>1924.0</td>\n",
       "    </tr>\n",
       "    <tr>\n",
       "      <th>Madagascar</th>\n",
       "      <td>2056.0</td>\n",
       "    </tr>\n",
       "    <tr>\n",
       "      <th>Afghanistan</th>\n",
       "      <td>2087.0</td>\n",
       "    </tr>\n",
       "    <tr>\n",
       "      <th>Haïti</th>\n",
       "      <td>2089.0</td>\n",
       "    </tr>\n",
       "    <tr>\n",
       "      <th>République populaire démocratique de Corée</th>\n",
       "      <td>2093.0</td>\n",
       "    </tr>\n",
       "    <tr>\n",
       "      <th>Tchad</th>\n",
       "      <td>2109.0</td>\n",
       "    </tr>\n",
       "    <tr>\n",
       "      <th>Zimbabwe</th>\n",
       "      <td>2113.0</td>\n",
       "    </tr>\n",
       "    <tr>\n",
       "      <th>Ouganda</th>\n",
       "      <td>2126.0</td>\n",
       "    </tr>\n",
       "    <tr>\n",
       "      <th>Timor-Leste</th>\n",
       "      <td>2129.0</td>\n",
       "    </tr>\n",
       "  </tbody>\n",
       "</table>\n",
       "</div>"
      ],
      "text/plain": [
       "                                            Disponibilité alimentaire (Kcal/personne/jour)\n",
       "Pays                                                                                      \n",
       "République centrafricaine                                                           1879.0\n",
       "Zambie                                                                              1924.0\n",
       "Madagascar                                                                          2056.0\n",
       "Afghanistan                                                                         2087.0\n",
       "Haïti                                                                               2089.0\n",
       "République populaire démocratique de Corée                                          2093.0\n",
       "Tchad                                                                               2109.0\n",
       "Zimbabwe                                                                            2113.0\n",
       "Ouganda                                                                             2126.0\n",
       "Timor-Leste                                                                         2129.0"
      ]
     },
     "execution_count": 42,
     "metadata": {},
     "output_type": "execute_result"
    }
   ],
   "source": [
    "top10_pays_moins_dispo_alimentaire_df  = dispo_alimentaire_pays_df.sort_values(\"Disponibilité alimentaire (Kcal/personne/jour)\", ascending=True)\n",
    "top10_pays_moins_dispo_alimentaire_df.head(10)"
   ]
  },
  {
   "cell_type": "markdown",
   "id": "2ffca8c2",
   "metadata": {},
   "source": [
    "# <center><span style=\"color : #708090\">**Les pays qui semblent être le plus en difficulté, au niveau alimentaire**</span>"
   ]
  },
  {
   "cell_type": "markdown",
   "id": "8e22a1f8",
   "metadata": {},
   "source": [
    "* ### <span style=\"color : #20B2AA\">***Regroupement et classement des données***</span>"
   ]
  },
  {
   "cell_type": "code",
   "execution_count": 43,
   "id": "8274f1eb",
   "metadata": {},
   "outputs": [],
   "source": [
    "disponibilité_total_df = dispo_alimentaire_df[['Disponibilité alimentaire (Kcal/personne/jour)','Disponibilité intérieure','Exportations','Nourriture','Aliments pour animaux','Pertes']].groupby(['Pays']).sum()\n",
    "disponibilité_total_df.loc[:,\"Exportations %\"] = round((disponibilité_total_df['Exportations']/disponibilité_total_df['Disponibilité intérieure']),4)\n",
    "disponibilité_total_df.loc[:,\"Nourriture %\"] = round((disponibilité_total_df['Nourriture']/disponibilité_total_df['Disponibilité intérieure']),4)\n",
    "disponibilité_total_df.loc[:,\"Aliments pour animaux %\"] = round((disponibilité_total_df['Aliments pour animaux']/disponibilité_total_df['Disponibilité intérieure']),4)\n",
    "disponibilité_total_df.loc[:,\"Pertes %\"] = round((disponibilité_total_df['Pertes']/disponibilité_total_df['Disponibilité intérieure']),4)\n",
    "proportion_disponibilité_total_df = disponibilité_total_df[['Disponibilité alimentaire (Kcal/personne/jour)','Disponibilité intérieure','Exportations %','Nourriture %','Aliments pour animaux %','Pertes %']]"
   ]
  },
  {
   "cell_type": "markdown",
   "id": "e94e5838",
   "metadata": {},
   "source": [
    "* ### <span style=\"color : #20B2AA\">***Merge Proportion sous-nutrition et Proportion disponibilité alimentaire***</span>"
   ]
  },
  {
   "cell_type": "code",
   "execution_count": 44,
   "id": "78ba1581",
   "metadata": {},
   "outputs": [
    {
     "data": {
      "text/html": [
       "<style type=\"text/css\">\n",
       "</style>\n",
       "<table id=\"T_dd105_\">\n",
       "  <thead>\n",
       "    <tr>\n",
       "      <th class=\"blank level0\" >&nbsp;</th>\n",
       "      <th class=\"col_heading level0 col0\" >Proportion Sous-Nutrition</th>\n",
       "      <th class=\"col_heading level0 col1\" >Disponibilité alimentaire (Kcal/personne/jour)</th>\n",
       "      <th class=\"col_heading level0 col2\" >Disponibilité intérieure</th>\n",
       "      <th class=\"col_heading level0 col3\" >Exportations %</th>\n",
       "      <th class=\"col_heading level0 col4\" >Nourriture %</th>\n",
       "      <th class=\"col_heading level0 col5\" >Aliments pour animaux %</th>\n",
       "      <th class=\"col_heading level0 col6\" >Pertes %</th>\n",
       "    </tr>\n",
       "    <tr>\n",
       "      <th class=\"index_name level0\" >Pays</th>\n",
       "      <th class=\"blank col0\" >&nbsp;</th>\n",
       "      <th class=\"blank col1\" >&nbsp;</th>\n",
       "      <th class=\"blank col2\" >&nbsp;</th>\n",
       "      <th class=\"blank col3\" >&nbsp;</th>\n",
       "      <th class=\"blank col4\" >&nbsp;</th>\n",
       "      <th class=\"blank col5\" >&nbsp;</th>\n",
       "      <th class=\"blank col6\" >&nbsp;</th>\n",
       "    </tr>\n",
       "  </thead>\n",
       "  <tbody>\n",
       "    <tr>\n",
       "      <th id=\"T_dd105_level0_row0\" class=\"row_heading level0 row0\" >Haïti</th>\n",
       "      <td id=\"T_dd105_row0_col0\" class=\"data row0 col0\" >48.26%</td>\n",
       "      <td id=\"T_dd105_row0_col1\" class=\"data row0 col1\" >2089</td>\n",
       "      <td id=\"T_dd105_row0_col2\" class=\"data row0 col2\" >6175</td>\n",
       "      <td id=\"T_dd105_row0_col3\" class=\"data row0 col3\" >0.24%</td>\n",
       "      <td id=\"T_dd105_row0_col4\" class=\"data row0 col4\" >66.41%</td>\n",
       "      <td id=\"T_dd105_row0_col5\" class=\"data row0 col5\" >7.79%</td>\n",
       "      <td id=\"T_dd105_row0_col6\" class=\"data row0 col6\" >11.00%</td>\n",
       "    </tr>\n",
       "    <tr>\n",
       "      <th id=\"T_dd105_level0_row1\" class=\"row_heading level0 row1\" >République populaire démocratique de Corée</th>\n",
       "      <td id=\"T_dd105_row1_col0\" class=\"data row1 col0\" >47.19%</td>\n",
       "      <td id=\"T_dd105_row1_col1\" class=\"data row1 col1\" >2093</td>\n",
       "      <td id=\"T_dd105_row1_col2\" class=\"data row1 col2\" >14876</td>\n",
       "      <td id=\"T_dd105_row1_col3\" class=\"data row1 col3\" >0.56%</td>\n",
       "      <td id=\"T_dd105_row1_col4\" class=\"data row1 col4\" >76.80%</td>\n",
       "      <td id=\"T_dd105_row1_col5\" class=\"data row1 col5\" >5.49%</td>\n",
       "      <td id=\"T_dd105_row1_col6\" class=\"data row1 col6\" >7.17%</td>\n",
       "    </tr>\n",
       "    <tr>\n",
       "      <th id=\"T_dd105_level0_row2\" class=\"row_heading level0 row2\" >Madagascar</th>\n",
       "      <td id=\"T_dd105_row2_col0\" class=\"data row2 col0\" >41.06%</td>\n",
       "      <td id=\"T_dd105_row2_col1\" class=\"data row2 col1\" >2056</td>\n",
       "      <td id=\"T_dd105_row2_col2\" class=\"data row2 col2\" >15216</td>\n",
       "      <td id=\"T_dd105_row2_col3\" class=\"data row2 col3\" >1.55%</td>\n",
       "      <td id=\"T_dd105_row2_col4\" class=\"data row2 col4\" >64.02%</td>\n",
       "      <td id=\"T_dd105_row2_col5\" class=\"data row2 col5\" >5.53%</td>\n",
       "      <td id=\"T_dd105_row2_col6\" class=\"data row2 col6\" >6.35%</td>\n",
       "    </tr>\n",
       "    <tr>\n",
       "      <th id=\"T_dd105_level0_row3\" class=\"row_heading level0 row3\" >Libéria</th>\n",
       "      <td id=\"T_dd105_row3_col0\" class=\"data row3 col0\" >38.28%</td>\n",
       "      <td id=\"T_dd105_row3_col1\" class=\"data row3 col1\" >2206</td>\n",
       "      <td id=\"T_dd105_row3_col2\" class=\"data row3 col2\" >2002</td>\n",
       "      <td id=\"T_dd105_row3_col3\" class=\"data row3 col3\" >1.70%</td>\n",
       "      <td id=\"T_dd105_row3_col4\" class=\"data row3 col4\" >82.57%</td>\n",
       "      <td id=\"T_dd105_row3_col5\" class=\"data row3 col5\" >1.75%</td>\n",
       "      <td id=\"T_dd105_row3_col6\" class=\"data row3 col6\" >5.54%</td>\n",
       "    </tr>\n",
       "    <tr>\n",
       "      <th id=\"T_dd105_level0_row4\" class=\"row_heading level0 row4\" >Lesotho</th>\n",
       "      <td id=\"T_dd105_row4_col0\" class=\"data row4 col0\" >38.25%</td>\n",
       "      <td id=\"T_dd105_row4_col1\" class=\"data row4 col1\" >2528</td>\n",
       "      <td id=\"T_dd105_row4_col2\" class=\"data row4 col2\" >966</td>\n",
       "      <td id=\"T_dd105_row4_col3\" class=\"data row4 col3\" >3.31%</td>\n",
       "      <td id=\"T_dd105_row4_col4\" class=\"data row4 col4\" >93.06%</td>\n",
       "      <td id=\"T_dd105_row4_col5\" class=\"data row4 col5\" >0.10%</td>\n",
       "      <td id=\"T_dd105_row4_col6\" class=\"data row4 col6\" >5.28%</td>\n",
       "    </tr>\n",
       "    <tr>\n",
       "      <th id=\"T_dd105_level0_row5\" class=\"row_heading level0 row5\" >Tchad</th>\n",
       "      <td id=\"T_dd105_row5_col0\" class=\"data row5 col0\" >37.96%</td>\n",
       "      <td id=\"T_dd105_row5_col1\" class=\"data row5 col1\" >2109</td>\n",
       "      <td id=\"T_dd105_row5_col2\" class=\"data row5 col2\" >5304</td>\n",
       "      <td id=\"T_dd105_row5_col3\" class=\"data row5 col3\" >0.00%</td>\n",
       "      <td id=\"T_dd105_row5_col4\" class=\"data row5 col4\" >77.24%</td>\n",
       "      <td id=\"T_dd105_row5_col5\" class=\"data row5 col5\" >1.96%</td>\n",
       "      <td id=\"T_dd105_row5_col6\" class=\"data row5 col6\" >8.65%</td>\n",
       "    </tr>\n",
       "    <tr>\n",
       "      <th id=\"T_dd105_level0_row6\" class=\"row_heading level0 row6\" >Rwanda</th>\n",
       "      <td id=\"T_dd105_row6_col0\" class=\"data row6 col0\" >35.06%</td>\n",
       "      <td id=\"T_dd105_row6_col1\" class=\"data row6 col1\" >2224</td>\n",
       "      <td id=\"T_dd105_row6_col2\" class=\"data row6 col2\" >10054</td>\n",
       "      <td id=\"T_dd105_row6_col3\" class=\"data row6 col3\" >3.29%</td>\n",
       "      <td id=\"T_dd105_row6_col4\" class=\"data row6 col4\" >92.23%</td>\n",
       "      <td id=\"T_dd105_row6_col5\" class=\"data row6 col5\" >0.00%</td>\n",
       "      <td id=\"T_dd105_row6_col6\" class=\"data row6 col6\" >4.33%</td>\n",
       "    </tr>\n",
       "    <tr>\n",
       "      <th id=\"T_dd105_level0_row7\" class=\"row_heading level0 row7\" >Mozambique</th>\n",
       "      <td id=\"T_dd105_row7_col0\" class=\"data row7 col0\" >32.81%</td>\n",
       "      <td id=\"T_dd105_row7_col1\" class=\"data row7 col1\" >2282</td>\n",
       "      <td id=\"T_dd105_row7_col2\" class=\"data row7 col2\" >22023</td>\n",
       "      <td id=\"T_dd105_row7_col3\" class=\"data row7 col3\" >1.90%</td>\n",
       "      <td id=\"T_dd105_row7_col4\" class=\"data row7 col4\" >56.93%</td>\n",
       "      <td id=\"T_dd105_row7_col5\" class=\"data row7 col5\" >7.81%</td>\n",
       "      <td id=\"T_dd105_row7_col6\" class=\"data row7 col6\" >5.28%</td>\n",
       "    </tr>\n",
       "    <tr>\n",
       "      <th id=\"T_dd105_level0_row8\" class=\"row_heading level0 row8\" >Timor-Leste</th>\n",
       "      <td id=\"T_dd105_row8_col0\" class=\"data row8 col0\" >32.17%</td>\n",
       "      <td id=\"T_dd105_row8_col1\" class=\"data row8 col1\" >2129</td>\n",
       "      <td id=\"T_dd105_row8_col2\" class=\"data row8 col2\" >447</td>\n",
       "      <td id=\"T_dd105_row8_col3\" class=\"data row8 col3\" >5.15%</td>\n",
       "      <td id=\"T_dd105_row8_col4\" class=\"data row8 col4\" >93.74%</td>\n",
       "      <td id=\"T_dd105_row8_col5\" class=\"data row8 col5\" >2.01%</td>\n",
       "      <td id=\"T_dd105_row8_col6\" class=\"data row8 col6\" >3.13%</td>\n",
       "    </tr>\n",
       "    <tr>\n",
       "      <th id=\"T_dd105_level0_row9\" class=\"row_heading level0 row9\" >Afghanistan</th>\n",
       "      <td id=\"T_dd105_row9_col0\" class=\"data row9 col0\" >28.93%</td>\n",
       "      <td id=\"T_dd105_row9_col1\" class=\"data row9 col1\" >2087</td>\n",
       "      <td id=\"T_dd105_row9_col2\" class=\"data row9 col2\" >13515</td>\n",
       "      <td id=\"T_dd105_row9_col3\" class=\"data row9 col3\" >2.06%</td>\n",
       "      <td id=\"T_dd105_row9_col4\" class=\"data row9 col4\" >79.43%</td>\n",
       "      <td id=\"T_dd105_row9_col5\" class=\"data row9 col5\" >5.68%</td>\n",
       "      <td id=\"T_dd105_row9_col6\" class=\"data row9 col6\" >8.40%</td>\n",
       "    </tr>\n",
       "  </tbody>\n",
       "</table>\n"
      ],
      "text/plain": [
       "<pandas.io.formats.style.Styler at 0x1f7f81610a0>"
      ]
     },
     "execution_count": 44,
     "metadata": {},
     "output_type": "execute_result"
    }
   ],
   "source": [
    "merge_pays_plus_dificulte_df = pd.merge(merge_population_sousnutrition_df[['Proportion']], proportion_disponibilité_total_df, on='Pays', how='left')\n",
    "merge_pays_plus_dificulte_df = merge_pays_plus_dificulte_df.rename(columns={'Proportion':'Proportion Sous-Nutrition'})\n",
    "top_pays_plus_dificulte_df  = merge_pays_plus_dificulte_df.sort_values('Proportion Sous-Nutrition',ascending=False)\n",
    "top_pays_plus_dificulte_df.head(10).style.format({'Proportion Sous-Nutrition': '{:.2%}','Disponibilité alimentaire (Kcal/personne/jour)':'{:.0f}','Disponibilité intérieure':'{:.0f}','Exportations %': '{:.2%}','Nourriture %': '{:.2%}','Aliments pour animaux %': '{:.2%}','Pertes %': '{:.2%}'})"
   ]
  },
  {
   "cell_type": "code",
   "execution_count": null,
   "id": "556fd410",
   "metadata": {},
   "outputs": [],
   "source": []
  }
 ],
 "metadata": {
  "kernelspec": {
   "display_name": "Python 3 (ipykernel)",
   "language": "python",
   "name": "python3"
  },
  "language_info": {
   "codemirror_mode": {
    "name": "ipython",
    "version": 3
   },
   "file_extension": ".py",
   "mimetype": "text/x-python",
   "name": "python",
   "nbconvert_exporter": "python",
   "pygments_lexer": "ipython3",
   "version": "3.9.7"
  }
 },
 "nbformat": 4,
 "nbformat_minor": 5
}
